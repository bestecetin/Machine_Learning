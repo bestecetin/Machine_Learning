{
 "cells": [
  {
   "cell_type": "markdown",
   "id": "ce0aa9da",
   "metadata": {},
   "source": [
    "# Natural Language Process (NLP)"
   ]
  },
  {
   "cell_type": "code",
   "execution_count": 1,
   "id": "6afe1cfb",
   "metadata": {},
   "outputs": [],
   "source": [
    "import pandas as pd"
   ]
  },
  {
   "cell_type": "code",
   "execution_count": 2,
   "id": "816fb4d7",
   "metadata": {},
   "outputs": [],
   "source": [
    " data=pd.read_csv(r'gc.csv',encoding=\"latin1\") \n",
    "#Database icerisinde latin harfleri var hata vermemesi icin encoding=\"latin1\" dedik\n",
    "#r ise read'in r'si"
   ]
  },
  {
   "cell_type": "code",
   "execution_count": 3,
   "id": "7c29c48d",
   "metadata": {},
   "outputs": [],
   "source": [
    "data = pd.concat([data.gender, data.description],axis=1) \n",
    "#iki columndan olusan data olusturduk.\n",
    "data.dropna(axis=0 ,inplace=True)\n",
    "#inplace=True yazmasaydık data= data.dropna(axis=0) ayni sey.\n",
    "data.gender=[ 1 if each ==\"famale\" else 0 for each in data.gender]"
   ]
  },
  {
   "cell_type": "code",
   "execution_count": 4,
   "id": "3408d8ea",
   "metadata": {
    "scrolled": true
   },
   "outputs": [
    {
     "data": {
      "text/html": [
       "<div>\n",
       "<style scoped>\n",
       "    .dataframe tbody tr th:only-of-type {\n",
       "        vertical-align: middle;\n",
       "    }\n",
       "\n",
       "    .dataframe tbody tr th {\n",
       "        vertical-align: top;\n",
       "    }\n",
       "\n",
       "    .dataframe thead th {\n",
       "        text-align: right;\n",
       "    }\n",
       "</style>\n",
       "<table border=\"1\" class=\"dataframe\">\n",
       "  <thead>\n",
       "    <tr style=\"text-align: right;\">\n",
       "      <th></th>\n",
       "      <th>gender</th>\n",
       "      <th>description</th>\n",
       "    </tr>\n",
       "  </thead>\n",
       "  <tbody>\n",
       "    <tr>\n",
       "      <th>0</th>\n",
       "      <td>0</td>\n",
       "      <td>i sing my own rhythm.</td>\n",
       "    </tr>\n",
       "    <tr>\n",
       "      <th>1</th>\n",
       "      <td>0</td>\n",
       "      <td>I'm the author of novels filled with family dr...</td>\n",
       "    </tr>\n",
       "    <tr>\n",
       "      <th>2</th>\n",
       "      <td>0</td>\n",
       "      <td>louis whining and squealing and all</td>\n",
       "    </tr>\n",
       "    <tr>\n",
       "      <th>3</th>\n",
       "      <td>0</td>\n",
       "      <td>Mobile guy.  49ers, Shazam, Google, Kleiner Pe...</td>\n",
       "    </tr>\n",
       "    <tr>\n",
       "      <th>4</th>\n",
       "      <td>0</td>\n",
       "      <td>Ricky Wilson The Best FRONTMAN/Kaiser Chiefs T...</td>\n",
       "    </tr>\n",
       "  </tbody>\n",
       "</table>\n",
       "</div>"
      ],
      "text/plain": [
       "   gender                                        description\n",
       "0       0                              i sing my own rhythm.\n",
       "1       0  I'm the author of novels filled with family dr...\n",
       "2       0                louis whining and squealing and all\n",
       "3       0  Mobile guy.  49ers, Shazam, Google, Kleiner Pe...\n",
       "4       0  Ricky Wilson The Best FRONTMAN/Kaiser Chiefs T..."
      ]
     },
     "execution_count": 4,
     "metadata": {},
     "output_type": "execute_result"
    }
   ],
   "source": [
    "data.head()"
   ]
  },
  {
   "cell_type": "markdown",
   "id": "bfc3452d",
   "metadata": {},
   "source": [
    "# Regular Expression (RE)"
   ]
  },
  {
   "cell_type": "markdown",
   "id": "c283739e",
   "metadata": {},
   "source": [
    "- cleaning data\n",
    "- regular expression RE mesela \"[^a-zA-Z]\""
   ]
  },
  {
   "cell_type": "code",
   "execution_count": 5,
   "id": "650e4b89",
   "metadata": {},
   "outputs": [],
   "source": [
    "import re\n",
    "first_description = data.description[4]"
   ]
  },
  {
   "cell_type": "code",
   "execution_count": 6,
   "id": "83597e33",
   "metadata": {},
   "outputs": [
    {
     "data": {
      "text/plain": [
       "'Ricky Wilson The Best FRONTMAN/Kaiser Chiefs The Best BAND Xxxx Thank you Kaiser Chiefs for an incredible year of gigs and memories to cherish always :) Xxxxxxx'"
      ]
     },
     "execution_count": 6,
     "metadata": {},
     "output_type": "execute_result"
    }
   ],
   "source": [
    "first_description"
   ]
  },
  {
   "cell_type": "code",
   "execution_count": 7,
   "id": "15305774",
   "metadata": {},
   "outputs": [],
   "source": [
    "#buradaki gülücük gibi seyleri cleaning edecegiz."
   ]
  },
  {
   "cell_type": "code",
   "execution_count": 8,
   "id": "63bb9840",
   "metadata": {},
   "outputs": [],
   "source": [
    "description = re.sub(\"[^a-zA-Z]\",\" \", first_description) "
   ]
  },
  {
   "cell_type": "markdown",
   "id": "9eea7008",
   "metadata": {},
   "source": [
    "- ^ bu isaret bulma(-ma olumsuzluk eki) demektir.\n",
    "- yukarida a'dan z'ye ve büyük a'dan büyük z'ye kadar olan harflerden bulma bulduysan ise boslukla degistir\n",
    "- bu islemi ise first_description'da yap."
   ]
  },
  {
   "cell_type": "code",
   "execution_count": 9,
   "id": "94f18d86",
   "metadata": {},
   "outputs": [
    {
     "data": {
      "text/plain": [
       "'Ricky Wilson The Best FRONTMAN Kaiser Chiefs The Best BAND Xxxx Thank you Kaiser Chiefs for an incredible year of gigs and memories to cherish always    Xxxxxxx'"
      ]
     },
     "execution_count": 9,
     "metadata": {},
     "output_type": "execute_result"
    }
   ],
   "source": [
    "description"
   ]
  },
  {
   "cell_type": "markdown",
   "id": "91f3ec1c",
   "metadata": {},
   "source": [
    "- buyuk harf ve kucuk harfle ayni seyi bile yazsak bilgisayar dilinde farkli kelimelermis gibi algilanir simdi bunu duzeltecegiz."
   ]
  },
  {
   "cell_type": "code",
   "execution_count": 10,
   "id": "c226eb85",
   "metadata": {},
   "outputs": [],
   "source": [
    "description = description.lower() #her seyi kucuk harfe cevirme"
   ]
  },
  {
   "cell_type": "code",
   "execution_count": 11,
   "id": "bcf51174",
   "metadata": {},
   "outputs": [
    {
     "data": {
      "text/plain": [
       "'ricky wilson the best frontman kaiser chiefs the best band xxxx thank you kaiser chiefs for an incredible year of gigs and memories to cherish always    xxxxxxx'"
      ]
     },
     "execution_count": 11,
     "metadata": {},
     "output_type": "execute_result"
    }
   ],
   "source": [
    "description"
   ]
  },
  {
   "cell_type": "markdown",
   "id": "ca5a79e6",
   "metadata": {},
   "source": [
    "# Stopwords (Irrelavant Words)\n",
    "- gereksiz kelimeler (the,and,as gibi..)"
   ]
  },
  {
   "cell_type": "code",
   "execution_count": 12,
   "id": "408df53f",
   "metadata": {},
   "outputs": [
    {
     "name": "stderr",
     "output_type": "stream",
     "text": [
      "[nltk_data] Downloading package stopwords to\n",
      "[nltk_data]     /Users/bestecetin/nltk_data...\n",
      "[nltk_data]   Package stopwords is already up-to-date!\n"
     ]
    }
   ],
   "source": [
    "import nltk #natural language tool kit\n",
    "nltk.download(\"stopwords\") #corpus diye bir klasore indiriliyor.\n",
    "from nltk.corpus import stopwords #sonra corpus klasorunden import ediliyor."
   ]
  },
  {
   "cell_type": "markdown",
   "id": "15d48941",
   "metadata": {},
   "source": [
    "- once metinleri kelime kelime ayiracagiz daha sonra stopwords var mi diye kiyaslayacagiz."
   ]
  },
  {
   "cell_type": "code",
   "execution_count": 13,
   "id": "3a06db72",
   "metadata": {},
   "outputs": [],
   "source": [
    "description = description.split()"
   ]
  },
  {
   "cell_type": "code",
   "execution_count": 14,
   "id": "c617a347",
   "metadata": {},
   "outputs": [
    {
     "data": {
      "text/plain": [
       "['ricky',\n",
       " 'wilson',\n",
       " 'the',\n",
       " 'best',\n",
       " 'frontman',\n",
       " 'kaiser',\n",
       " 'chiefs',\n",
       " 'the',\n",
       " 'best',\n",
       " 'band',\n",
       " 'xxxx',\n",
       " 'thank',\n",
       " 'you',\n",
       " 'kaiser',\n",
       " 'chiefs',\n",
       " 'for',\n",
       " 'an',\n",
       " 'incredible',\n",
       " 'year',\n",
       " 'of',\n",
       " 'gigs',\n",
       " 'and',\n",
       " 'memories',\n",
       " 'to',\n",
       " 'cherish',\n",
       " 'always',\n",
       " 'xxxxxxx']"
      ]
     },
     "execution_count": 14,
     "metadata": {},
     "output_type": "execute_result"
    }
   ],
   "source": [
    "description"
   ]
  },
  {
   "cell_type": "markdown",
   "id": "b358576e",
   "metadata": {},
   "source": [
    "- split metindeki kelimeleri bir liste icine koyarak ayirdi.\n",
    "- split( ) dedik parantez icinde bi sey olmamasi default olarak bosluklara gore ayirmasini ifade ediyor.\n",
    "- split yerine tokenizer kullanabiliriz. Nltk kutuphanesine ait."
   ]
  },
  {
   "cell_type": "code",
   "execution_count": 15,
   "id": "f7fa5e82",
   "metadata": {},
   "outputs": [
    {
     "name": "stderr",
     "output_type": "stream",
     "text": [
      "[nltk_data] Downloading package punkt to\n",
      "[nltk_data]     /Users/bestecetin/nltk_data...\n",
      "[nltk_data]   Package punkt is already up-to-date!\n"
     ]
    },
    {
     "data": {
      "text/plain": [
       "True"
      ]
     },
     "execution_count": 15,
     "metadata": {},
     "output_type": "execute_result"
    }
   ],
   "source": [
    "nltk.download('punkt')"
   ]
  },
  {
   "cell_type": "code",
   "execution_count": null,
   "id": "f8aa3f1b",
   "metadata": {},
   "outputs": [],
   "source": [
    "description = nltk.word_tokenize(description)"
   ]
  },
  {
   "cell_type": "markdown",
   "id": "888ddbba",
   "metadata": {},
   "source": [
    "- split yerine tokenizer neden kullanilir?"
   ]
  },
  {
   "cell_type": "code",
   "execution_count": 17,
   "id": "721ee4a5",
   "metadata": {},
   "outputs": [
    {
     "data": {
      "text/plain": [
       "[\"shouldn't\", 'and', 'good']"
      ]
     },
     "execution_count": 17,
     "metadata": {},
     "output_type": "execute_result"
    }
   ],
   "source": [
    "stre= \"shouldn't and good\"\n",
    "stre.split()"
   ]
  },
  {
   "cell_type": "code",
   "execution_count": 18,
   "id": "224c1a1c",
   "metadata": {},
   "outputs": [
    {
     "data": {
      "text/plain": [
       "['should', \"n't\", 'and', 'good']"
      ]
     },
     "execution_count": 18,
     "metadata": {},
     "output_type": "execute_result"
    }
   ],
   "source": [
    "stre2 = \"shouldn't and good\"\n",
    "stre2 = nltk.word_tokenize(stre2)\n",
    "stre2"
   ]
  },
  {
   "cell_type": "markdown",
   "id": "fe091549",
   "metadata": {},
   "source": [
    "- aslinda shouldn't kelimesi should ve not olarak ayri kelimelerdir bunu split duzgun ayirmiyor fakat tokenizer not'i ayiriyor."
   ]
  },
  {
   "cell_type": "markdown",
   "id": "aa796e3e",
   "metadata": {},
   "source": [
    "#gereksiz kelimeleri cikar"
   ]
  },
  {
   "cell_type": "code",
   "execution_count": 19,
   "id": "8d6bdf15",
   "metadata": {},
   "outputs": [],
   "source": [
    "description = [word for word in description if not word in set(stopwords.words(\"english\"))]"
   ]
  },
  {
   "cell_type": "markdown",
   "id": "dfd98c85",
   "metadata": {},
   "source": [
    "- description'ın icindeki wordleri dolan daha sonra bana word'u dondur, set et yani uniqueleri bul yani tekrar eden kelimeler varsa set et."
   ]
  },
  {
   "cell_type": "code",
   "execution_count": 20,
   "id": "28a8a9f6",
   "metadata": {},
   "outputs": [
    {
     "name": "stdout",
     "output_type": "stream",
     "text": [
      "['ricky', 'wilson', 'best', 'frontman', 'kaiser', 'chiefs', 'best', 'band', 'xxxx', 'thank', 'kaiser', 'chiefs', 'incredible', 'year', 'gigs', 'memories', 'cherish', 'always', 'xxxxxxx']\n"
     ]
    }
   ],
   "source": [
    "print(description)"
   ]
  },
  {
   "cell_type": "markdown",
   "id": "72aeb052",
   "metadata": {},
   "source": [
    "- Textin icinden the, of, an gibi kelimelerin cikarildigi gorulur."
   ]
  },
  {
   "cell_type": "markdown",
   "id": "89506594",
   "metadata": {},
   "source": [
    "# Lemmatization"
   ]
  },
  {
   "cell_type": "markdown",
   "id": "3f4cad00",
   "metadata": {},
   "source": [
    "- yemeğe, yemeği gibi ekler olunca bilgisayar bunlari farkli algilar bunun yemek oldugunu bilgisayara ogretmemiz gerekir.\n",
    "- Bu yüzden kelimelerimizin koklerini bulmamiz gerekir, bunun icin Lemmatization kullanacagiz."
   ]
  },
  {
   "cell_type": "code",
   "execution_count": 21,
   "id": "b1104a6e",
   "metadata": {},
   "outputs": [],
   "source": [
    "from nltk.stem import WordNetLemmatizer"
   ]
  },
  {
   "cell_type": "code",
   "execution_count": 22,
   "id": "0e2468da",
   "metadata": {},
   "outputs": [],
   "source": [
    "lemma = WordNetLemmatizer()"
   ]
  },
  {
   "cell_type": "code",
   "execution_count": 23,
   "id": "ad30edf3",
   "metadata": {},
   "outputs": [],
   "source": [
    "description = [lemma.lemmatize(word) for word in description]"
   ]
  },
  {
   "cell_type": "markdown",
   "id": "99fbb80b",
   "metadata": {},
   "source": [
    "- description'un icindeki tum kelimeleri dolan ve hepsinin kokunu bul"
   ]
  },
  {
   "cell_type": "code",
   "execution_count": 24,
   "id": "9b528901",
   "metadata": {},
   "outputs": [
    {
     "data": {
      "text/plain": [
       "['ricky',\n",
       " 'wilson',\n",
       " 'best',\n",
       " 'frontman',\n",
       " 'kaiser',\n",
       " 'chief',\n",
       " 'best',\n",
       " 'band',\n",
       " 'xxxx',\n",
       " 'thank',\n",
       " 'kaiser',\n",
       " 'chief',\n",
       " 'incredible',\n",
       " 'year',\n",
       " 'gig',\n",
       " 'memory',\n",
       " 'cherish',\n",
       " 'always',\n",
       " 'xxxxxxx']"
      ]
     },
     "execution_count": 24,
     "metadata": {},
     "output_type": "execute_result"
    }
   ],
   "source": [
    "description"
   ]
  },
  {
   "cell_type": "code",
   "execution_count": 25,
   "id": "08bb7be4",
   "metadata": {},
   "outputs": [],
   "source": [
    "description = \" \".join(description)"
   ]
  },
  {
   "cell_type": "markdown",
   "id": "4df8d1a9",
   "metadata": {},
   "source": [
    "- bosluk ile kelimelerimi birleştir."
   ]
  },
  {
   "cell_type": "code",
   "execution_count": 26,
   "id": "9716bd85",
   "metadata": {},
   "outputs": [
    {
     "data": {
      "text/plain": [
       "'ricky wilson best frontman kaiser chief best band xxxx thank kaiser chief incredible year gig memory cherish always xxxxxxx'"
      ]
     },
     "execution_count": 26,
     "metadata": {},
     "output_type": "execute_result"
    }
   ],
   "source": [
    "description"
   ]
  },
  {
   "cell_type": "markdown",
   "id": "4dd86fb3",
   "metadata": {},
   "source": [
    "Yani dataki ;\n",
    "- gereksiz kelimeler(stop word) ortadan kalkti\n",
    "- hepsi kucuk harf oldu\n",
    "- gereksiz karakterler ortadan kalkti\n",
    "- her bir kelimenin koku yazildi \n",
    "- clean data yapilmis oldu"
   ]
  },
  {
   "cell_type": "markdown",
   "id": "ee8e35ed",
   "metadata": {},
   "source": [
    "- Bu adimlarin hepsi bir datadaki 4. description icin yapilmis oldu.\n",
    "- Bunu tum dataya yapmak icin bir for dongusu kullanacagiz."
   ]
  },
  {
   "cell_type": "code",
   "execution_count": 27,
   "id": "2d5d6b3d",
   "metadata": {},
   "outputs": [
    {
     "name": "stderr",
     "output_type": "stream",
     "text": [
      "[nltk_data] Downloading package wordnet to\n",
      "[nltk_data]     /Users/bestecetin/nltk_data...\n",
      "[nltk_data]   Package wordnet is already up-to-date!\n"
     ]
    },
    {
     "data": {
      "text/plain": [
       "True"
      ]
     },
     "execution_count": 27,
     "metadata": {},
     "output_type": "execute_result"
    }
   ],
   "source": [
    "import nltk\n",
    "nltk.download('wordnet')"
   ]
  },
  {
   "cell_type": "code",
   "execution_count": 28,
   "id": "99ccdc1b",
   "metadata": {},
   "outputs": [],
   "source": [
    "description_list=[]"
   ]
  },
  {
   "cell_type": "code",
   "execution_count": 29,
   "id": "fe499cc7",
   "metadata": {},
   "outputs": [],
   "source": [
    "for description in data.description:\n",
    "    description = re.sub(\"[^a-zA-Z]\",\" \", description) \n",
    "    description = description.lower() \n",
    "    description = nltk.word_tokenize(description)\n",
    "    description = [word for word in description if not word in set(stopwords.words(\"english\"))]\n",
    "    lemma = WordNetLemmatizer()\n",
    "    description = [lemma.lemmatize(word) for word in description]\n",
    "    description = \" \".join(description)\n",
    "    description_list.append(description) "
   ]
  },
  {
   "cell_type": "code",
   "execution_count": 30,
   "id": "50ad720b",
   "metadata": {},
   "outputs": [
    {
     "data": {
      "text/plain": [
       "['sing rhythm',\n",
       " 'author novel filled family drama romance',\n",
       " 'louis whining squealing',\n",
       " 'mobile guy er shazam google kleiner perkins yahoo sprint pc airtouch air force stanford gsb uva dad husband brother golfer',\n",
       " 'ricky wilson best frontman kaiser chief best band xxxx thank kaiser chief incredible year gig memory cherish always xxxxxxx',\n",
       " 'know',\n",
       " 'global marketplace image video music sharing photo inspiration design tip video creative community',\n",
       " 'secret getting ahead getting started',\n",
       " 'pll fan crazy mcd ramen bae',\n",
       " 'renaissance art historian university nottingham fuelled haribo partial coffee soft spot renaissance china national teaching fellow',\n",
       " 'clean food taste great providing energy nutrient guilt granola vegan paleo friendly option cert organic gf kosher',\n",
       " 'highly extraordinary auction',\n",
       " 'senior xi xii mmxiv',\n",
       " 'come join fastest blog network online today http co mfpa vgk http co mpuuqtyf g cover credit repair credit card bankruptcy',\n",
       " 'im p bo burnham disney world',\n",
       " 'jmkm',\n",
       " 'enthusiastic f fan model collector music fan film fanatic also aspergian',\n",
       " 'artisan specializing paper mache print making fibre art art teacher cat devotee find page fb http co g bstg icv',\n",
       " 'bled died take away sin',\n",
       " 'union j xxxx',\n",
       " 'start',\n",
       " 'bsc economics graduate coys',\n",
       " 'wife coach mom eight troop follower christ',\n",
       " 'question islam would like answer visit http co alpmzgct x chat u',\n",
       " 'canadian space enthusiast future astronaut hopefully',\n",
       " 'dm closed sc dear moonshine',\n",
       " 'rl writer lewd aspiring femboy enjoys oneechans girlcock rts softcore r nsfw account listed',\n",
       " 'breaking industry news people believe thing much tv know',\n",
       " 'award winning author paranormal romance thriller hath fury technology writer http co lmmiowenqq asmsg',\n",
       " 'self proclaimed princess occasional pain as',\n",
       " 'k smooty drink alot could worse scrolling girl nude watching brady beat team patsnation suprememeninist alwaysturnt',\n",
       " 'everything need find job keep follow tweet new job posting',\n",
       " 'free bros ebk otr real kno grind wea come',\n",
       " 'nation leading voice childcare advocating affordable high quality ece working family undertakes research report child care data',\n",
       " 'penn state alum classof',\n",
       " 'mirage homage capri eternal hopeless romantic really hopeles',\n",
       " 'lover woman dog cat dog movie comic tv video game book wrestling existentialism adult ent',\n",
       " 'collective genre specific blog combining like voltron provide best coverage imaginable thefullbleed scifitalk geeklegacy thmatrix',\n",
       " 'militante obrero de los sue o revolucionarios desde toda la vida chavista de coraz n comandante vives x pre',\n",
       " 'love animal fetchfind new way find job network pet industry mascot heyfetchy fetchylovesyou',\n",
       " 'baby perfect niallofficial',\n",
       " 'kennedy j abulala ni mwalimu anayeienzi kazi yake mwalimu wa kiswahili',\n",
       " 'krothedj gmail com instagram djkro',\n",
       " 'slightly ginger blue eye park run',\n",
       " 'living life top food chain',\n",
       " 'n ipgkk',\n",
       " 'home office business sweet business',\n",
       " 'goodmorning mention anyone retweeet must follow back fav follow',\n",
       " 'pc xbox playstation esports music edm stock sex',\n",
       " 'warholian obsessor creating within orwellian nightmare allsceneeye larecord',\n",
       " 'blade instagram scottryan',\n",
       " 'control jpn version zoe jbot rayark implosion',\n",
       " 'want life advertise service free get rid money worry',\n",
       " 'curious guy',\n",
       " 'discover heal illness pain',\n",
       " 'team di reporter e giornalisti lavoriamo con video e web la nostra giornata tra cronaca attualit politica e sport info smlive',\n",
       " 'like sleep',\n",
       " 'ask question get lie spoopytaylor',\n",
       " 'photography booking enquiry dm call email abphotography gmail com insta b photography teamchrist',\n",
       " 'born czech republic live ireland wan na germany ouat oitnb',\n",
       " 'angel could',\n",
       " 'following money opening governance fighting corruption globalintegrity opengovhub tweet',\n",
       " 'retired bad girl queen',\n",
       " 'walk faith sight',\n",
       " 'h ncisla bone castle arrow chicago fire chicago pd poi elementary tbbt agent shield grey anatomy last ship callen mcroll ajax lfc bar rafa nadal',\n",
       " 'apollo bot pulling aj dd randomly post every hour spoiler abound construction progress complete',\n",
       " 'south beach th street miami beach fl sunny isle beach collins ave c sunny isle beach fl',\n",
       " '',\n",
       " 'like snow beautiful cold legal drug dealer original extraordinary psychic want know better talk',\n",
       " 'official twitter account wichita fall wildcat nahlhockey south division est restoretheroar',\n",
       " 'wife tidy boy amadeus director ideal place proud mother max mozart',\n",
       " 'delivering date news entertainment world',\n",
       " 'lie get halfway around world truth chance get pant',\n",
       " 'lover truth seeker knowledge',\n",
       " 'chase trend make statement hoodlyfe http co abfak idjb',\n",
       " 'calm collected followbackandsee',\n",
       " 'artist evaluating life radiation oncology student want make difference comedian rule breaker forcelectures live drawz http co nsf zd hfy',\n",
       " 'tcg staffing firm place design interactive marketing professional freelance full time job see job',\n",
       " 'hi name angela friend call angie boring life consisting college work nothing post bio',\n",
       " 'sport medium opinion established contact u jmcintyre usatoday com',\n",
       " 'repair make model phone tablet mp player professionally repairing electronic equipment since',\n",
       " 'sportswriter cigar lover dreamer pro writer sportsblog ustadium ambassador suffering yankee net jet fan fau',\n",
       " 'charity volunteer',\n",
       " 'hip hop usb album breakstix usb break beat http co iaof r hv',\n",
       " '',\n",
       " 'card get everywhere anything anyhow please use credit card wisely please get tip using credit card site',\n",
       " 'boring boring chelsea',\n",
       " 'dallas tx news need one spot thanks following please send along suggestion may',\n",
       " 'maker conceptor creative developer xbac bd conception geek dev agile neutralite opensource privacy copyright',\n",
       " 'calm cool',\n",
       " 'retro modernist suffering unsightly visibility',\n",
       " 'multiple sclerosis life brant county together community partner want help living disease',\n",
       " 'doctorate physic time olympic swimming gold medalist professional liar',\n",
       " 'trust people like big butt lie',\n",
       " 'dont take tweet serious shrug shit happens look link pin reason',\n",
       " 'come agrown agtech investor conference join convo cea u feat jayfamiglietti genegiacomelli meiny prins actonclimate agcon',\n",
       " 'community outreach medicaid managed care board member united way chicago gerontology advocate underserved community isu alumnus',\n",
       " 'ventas digitales ibm espa toda mi opiniones son personales la hay de todos los colores tambi n puedes contactarme en http co u r x hr',\n",
       " 'freeza ripnazerah',\n",
       " 'f p f',\n",
       " 'weekly hip hop podcast new show every wednesday rooted hip hop limited nothing marketing excusemyadlib com',\n",
       " 'catalyst happiness',\n",
       " 'idiot baltimore think funny',\n",
       " 'computer engineer khalifa university',\n",
       " 'studying dillard university dr williams',\n",
       " 'leonel dominic',\n",
       " 'gb year usually twitter twat following chat regarding fight demise noble trade know lot answer',\n",
       " 'quit paying expensive medical visit fake fix eliminate frustrating nagging constantly repeating low back pain',\n",
       " 'born london grew basildon lived cornwall sea make sense fine',\n",
       " 'signed',\n",
       " 'journalist producer camanpour cnni always open spicy taco view rt endorsement duh',\n",
       " 'curating best medium feed palo alto city http co dtwyrmizau community service medium network supporting social good',\n",
       " 'en webradio music non stop fantastic sci fi movie tv show early present day fr radio sf et fantastique',\n",
       " 'brain bodily organ start working moment awake stop get class',\n",
       " 'ja online gist entertainment news music video event celebrity focus interview life style fashion videodirector mc expy',\n",
       " 'learn new aussiebodysecrets',\n",
       " 'hollow heart',\n",
       " 'hurt let go sometimes seems harder try hold something someone want get away',\n",
       " 'like tweet support work shopping amazon via link thank good person http co ebogxhl r',\n",
       " '',\n",
       " 'magnificent fujoshi scum',\n",
       " 'girl love god pole vaulting lifting reading horseback riding passion country loving small town girl',\n",
       " 'day want world peace day want burn world',\n",
       " 'everything need news crew presence',\n",
       " 'ent est bem sporting clube de portugal',\n",
       " 'living loving electronic dance music scene edm life follow u come say hi see honey next edm festival go',\n",
       " 'real estate global network social network real estate professional',\n",
       " 'island official magical creature omg ask white avi header barnqueenacc r wellbeing ambassador',\n",
       " 'helping build supercomputer one making giant robot anyhow keeping busy send mar tweet cc http co mtenmjd xx',\n",
       " 'train like picked hunger game',\n",
       " 'looking miracle fucking right one jess',\n",
       " 'home school management bcomm program mba program msc innovative research centre core downtown toronto',\n",
       " 'year old married broad makeup artist stylist raising beautiful girl strong beautiful woman wife roughneck',\n",
       " 'capital area food bank texas nonprofit dedicated nourishing hungry people leading community ending hunger',\n",
       " 'creolemixed borninneworleans raisedintexas love god family friend education sleep text food movie music clothes makeup nature animal color',\n",
       " 'pronounced val er http co ezqpnsavnr dedicated livestreamer avid pepsi drinker greenmangaming partner proud member keefcult big wwe fan',\n",
       " 'hi name louanne great fan justin bieber love',\n",
       " 'national security foreign policy editor cqnow pulitzer crisis center grantee former qatar expat medill grad retweets endorsement',\n",
       " 'latest new york ranger buzz',\n",
       " 'writer stoop hen book punk gin writes cash iqmediacorp working nsfwstory foul mouth cyclist',\n",
       " 'ever feeling weak remember strong copilot darklylacquered trine coldconstructed rockdoves',\n",
       " 'ultimate gourmet coffee store espresso whole bean coffee http co u ppcrfrsq http co snem ypeak',\n",
       " 'christian conservative baptist believer constitution founder book business republican theologian historian',\n",
       " 'collective genre specific blog combining like voltron provide best coverage imaginable thefullbleed scifitalk geeklegacy thmatrix',\n",
       " 'got adsense publisher account tool multiply income many time wish http co gbictcktae',\n",
       " 'marinasdiamonds dailymatd already performed v alternative pop lie',\n",
       " '',\n",
       " 'tweeting thing around pennsylvania like enjoy interested twitter marketing save today info nicolamarketing com',\n",
       " 'health nut retired teacher family man programmer developer technician pc cnc entrepreneur god',\n",
       " 'dont need much cuz action character tell kingabdul',\n",
       " 'division ground news canada join friend reading latest gaming news ground',\n",
       " 'weekly nationally syndicated alternative radio newsmagazine timely depth progressive analysis found corporate medium',\n",
       " 'oh oh oh oh',\n",
       " 'latest business advice strategy businessinsider',\n",
       " 'sick lip caramel wan na try bafhouse teamprettypothead perfect balance badass feminie di hempress empress',\n",
       " 'american made jean built leader fit quality style bringing best part fashion world western world',\n",
       " 'experience conflict commentary realism',\n",
       " 'hampton university',\n",
       " 'curating best medium feed cleveland city http co l qvbrl community service medium network supporting civic cause local art',\n",
       " 'owner jlj holding llc real estate consultant owner feel real estate service llc',\n",
       " 'finna lit vancini',\n",
       " 'solar powered sigh machine mostly footy talk',\n",
       " 'insta brownlouise',\n",
       " 'card get everywhere anything anyhow please use credit card wisely please get tip using credit card site',\n",
       " 'czech adult model pornographic actress inch natural breast currently livin london follow retweet every day luv u',\n",
       " 'official city coralville ia government twitter account follows rts endorsement comment info http co gayp dffh',\n",
       " 'tammy r sc kredo x',\n",
       " 'bb official twitter account caution barracuda patrolled water followed dloesch newsbusters governorperry fredthompson twitchyteam chuckwoolery',\n",
       " 'evil conservative obama warned pro palin conservative pro life',\n",
       " 'love jesus miranda lambert jle leopard print little jack coke',\n",
       " 'helped people debt tax estate problem since friendly seem tv experience go anywhere else',\n",
       " 'se un uomo non disposto correre qualche rischio per le sue idee le sue idee non valgono nulla non vale nulla lui cit',\n",
       " 'striving islamic way life right deen sight allah islam',\n",
       " 'full time cruising sailor writer abiding interest book boat sea classic guitar',\n",
       " 'tweet la vega deal share sin city secret along way follow love vega stripdeals gmail com',\n",
       " 'want british justin bieber want first conor maynard conor maynard met joe caspar called babe',\n",
       " 'bambam jyp nation september th park jaehyung called broski',\n",
       " 'unknown',\n",
       " 'creator location education nation premier educational consulting service young performer passion education film theater crime drama',\n",
       " 'onedirection directionerforever criminalminds harmonizer abrahamers afonica soy liam girl ig selly',\n",
       " 'world fastest growing seo small big job service buyer seller meet',\n",
       " 'current mood jet black heart go one direction',\n",
       " 'daily tip motivation healthy lifestyle diet nutrition eat right feel great healthy',\n",
       " 'soco randolph college l hard leave leave easiest goddamn thing world',\n",
       " 'en construcci n literatura lisensiada en estudios ingleses zurda mel mana peligro constante solemnly swear good',\n",
       " 'owner cocker spaniel amateur baker thing nice jam marmalade maker mane chance horse sanctuary owner tr',\n",
       " 'geek gamer writer beard advocate twittermafia',\n",
       " 'jewish federation greater philadelphia mission mobilize financial volunteer resource address community critical priority',\n",
       " 'terrani dad come everybody rastaman',\n",
       " 'find latest job career uk follow tweet',\n",
       " 'curating best medium feed sydney city http co anaoqyuffs community service medium network supporting civic cause local art',\n",
       " 'vcu campus technology store proudly serving vcu student faculty staff providing technology product service roof',\n",
       " 'lover outdoor thing subtly charming geek massage therapist mindful',\n",
       " 'talent board thecandes vp talentculture tchat show co founder co host ta hcs certified hr recruiting writer wannabe drummer grateful father',\n",
       " 'sure fine whatever',\n",
       " 'eo soo seon smol',\n",
       " 'author novel trip aret',\n",
       " 'like buisness',\n",
       " 'writer gay romance gay erotica lgbt literary fiction choose carefully amz http co hr ddu',\n",
       " 'mu pt',\n",
       " 'love like car accident hit fall survive survive love cuz weakness',\n",
       " 'going get tough tough get going',\n",
       " 'se asian goat kid march currently still much jojo much bike saso team abuyagi',\n",
       " 'formerly leading edelman indonesia public affair across se asia joining http co gscdas september st senior vice president brazil lead',\n",
       " 'featured nfl columnist gameday writer bleacher report former army engineer lover thing sarcasm satire pfwa member',\n",
       " 'matter ups down happy sad moment always gaga saw followed noticed many time',\n",
       " 'phoenix city press',\n",
       " 'swazijive united wife kid order mufc master degree banterology arrogant better red devil ig iam makhubu',\n",
       " 'lay back enjoy life austin cole',\n",
       " 'love singing dancing food painting tom bertram lol awesome like viner go follow varsha nair',\n",
       " 'primo deus god first music',\n",
       " 'curating best medium feed regina city http co lpvxd mnax community service medium network supporting civic cause local art',\n",
       " 'naturally artificially flavoured',\n",
       " 'way baby monitor useful parent baby parent hear sound baby important choose reliable one',\n",
       " 'follow fut io android bargain giveaway use pic legitjaz win giveaway bargain dm want sponsor giveaway',\n",
       " 'vegan married batman simpson metal harsh noise xtapolapometal',\n",
       " 'carla malto iixii',\n",
       " 'classic professor haverford canophile yankee fan occasional gardener onetime sailor',\n",
       " 'hi name kevin dota player germany follow know start streaming',\n",
       " 'world largest affordable seo market place seller buyer freelancer small big job online service meet',\n",
       " 'partner pr firm expertise interest crisis communication management public policy economic development medium tech aviation healthcare',\n",
       " 'hey norman andy dick feel click link find answer',\n",
       " 'instagram oliviamockford',\n",
       " 'time ghost',\n",
       " 'sagi babe',\n",
       " 'walking dead comic tim burton turtle owl harry potter star war hacky sack music life r p mitch lucker rise record street team',\n",
       " 'indianapolis city press',\n",
       " 'brooke writer artist video game fanboy snapchat thequeenbrookie',\n",
       " 'live content curated top urban planning influencers',\n",
       " 'made bird enix weird developing fallow',\n",
       " 'complain get drunk',\n",
       " 'want earn money bitcoin let insider tell',\n",
       " 'muhammad fitri adam',\n",
       " 'latest toronto maple leaf buzz',\n",
       " 'making giant novelty cheque since',\n",
       " 'singer arranger music producer',\n",
       " 'aba instructor grad student couponer deal hunter freebie snatcher blogger iphoneography lover social medium butterfly',\n",
       " 'matter slow go long stop westfield insurance pinnacle sport gobrowns gobucks believeland',\n",
       " 'businessman entrepreneur internet marketer earn single day remarkable new idea free video http co dl kzcvxue',\n",
       " 'wapo national reporter seek truth give voice voiceless shine light darkness consideration minor importance',\n",
       " 'niall horan como respuesta todo larry como ox geno liam mi baby zquad zayn girl',\n",
       " 'ed taylor',\n",
       " 'go survival mode tickled',\n",
       " 'done',\n",
       " 'love manchester united beard bearded red discus everything united check podcast',\n",
       " 'newly married kid everton rule',\n",
       " 'get normani video',\n",
       " 'curating best medium feed belmont city http co hw alqpwg community service medium network supporting civic cause local art',\n",
       " 'update game thing technology related mostly',\n",
       " 'commercial director zignia live member board water happiness',\n",
       " 'fuck dummy',\n",
       " 'abbey gilbert raemorrismusic work progress',\n",
       " 'lyrically driven ska punk reggae east coast check new release sublime one itunes proudly sponsored prsguitars',\n",
       " 'call neighborhood haunt focus great ambiance delicious food classic libation',\n",
       " '',\n",
       " 'nerd wrangler riot game',\n",
       " 'like call writer melanin curl pro woman pro black reader blogger',\n",
       " 'mommy ka leighceriyah',\n",
       " 'came different family biologicaly heart beat one kathniel',\n",
       " 'sportalk sport meet social medium account cover philadelphia eagle join sportalk today get app http co qyommzx df eagle nfl',\n",
       " 'good vibe',\n",
       " 'open eye something beautiful happening al',\n",
       " 'polinema tek informatika basket polinema like basket http co lgxn bgetc',\n",
       " 'quit paying expensive medical visit fake fix eliminate frustrating nagging constantly repeating low back pain',\n",
       " 'love read favourite book series fifty shade grey fan stephen moyer jamie dornan love watching true blood big rookie blue mcswarek fan',\n",
       " 'brand development manager husband new york time bestselling independent author nicoleeauthor',\n",
       " 'bueno hola llamo kevin tengo o viivo en se donde gusta cantarl l u de soii tiimiido add facebook amo mi novi',\n",
       " 'draw filthy stuff',\n",
       " 'big tit picture site',\n",
       " 'swiftie forever always script cat music traveling tennis basketball ice skating play guitar piano ukulele bit',\n",
       " 'incurable tv evangelist',\n",
       " 'relationship survive long term earth would worth time energy short term deal bargain forsale onsale discount',\n",
       " 'learn thing revolution bitcoin opportunity simple way earn money using bitcoin',\n",
       " 'wasted',\n",
       " 'collective genre specific blog combining like voltron provide best coverage imaginable thefullbleed scifitalk geeklegacy thmatrix',\n",
       " 'crazy toy attic crazy truly gone fishing must taken marble away',\n",
       " 'family le influence healthcare compliance triathlete askhcsi',\n",
       " '',\n",
       " 'longwood basketball r p dad portia tony',\n",
       " 'socio legal technologist inventor conset receipt focused personal data control',\n",
       " 'free omb fear allah real demon loose screw',\n",
       " 'semper paratus',\n",
       " 'waiting gandalf come house invite adventure expect return',\n",
       " 'te quiero que ayer pero menos que ana',\n",
       " 'greek god stats espn mikeandmike christ follower moneyball disciple punk rock enthusiast lebanese food connoisseur',\n",
       " 'blogger intermediario assicurativo esperto di pallacanestro livornese tifoso del milan e della libertas livorno webdesigner e webmaster blogger politico',\n",
       " 'hey angel',\n",
       " 'steam little arab insta little arab kik ahmadabed',\n",
       " 'care people think',\n",
       " 'arm leg',\n",
       " 'follow ysk baltimore latest news baltimore maryland area http co doixknlfdp',\n",
       " 'freelance job seo design writing social medium many place buyer seller meet',\n",
       " 'ja online gist entertainment news music video event celebrity focus interview life style fashion videodirector mc expy',\n",
       " 'division ground news canada join friend reading latest gaming news ground',\n",
       " 'please block',\n",
       " 'small town girl convinced born wrong side mason dixon started',\n",
       " 'spooky bisexual teenager intersectional feminist feminist kid',\n",
       " 'offering affordable travel best location',\n",
       " 'official twitter feed eckerd athletics follow u update galore member ssc ncaadii',\n",
       " 'wael abdelkarim',\n",
       " 'hjv sc skysky',\n",
       " 'u r affiliated nfl san diego charger',\n",
       " 'attorney speaker legal analyst http co gpbrj wa n http co t cihefn',\n",
       " 'second floor tootsies gettin shoulder rub',\n",
       " 'communicator coffee enthusiast infuriatingly humble music nerd subtly charming internet guru alcohol fanatic',\n",
       " 'girl wanting big thing life',\n",
       " 'question',\n",
       " 'leyton orient blogger author promised tattoo face stupid club thanks get lofc',\n",
       " 'card get everywhere anything anyhow please use credit card wisely please get tip using credit card site',\n",
       " 'nois noa precisa de nenhum papel da prefeitura',\n",
       " 'veninataviveci',\n",
       " 'life waiting storm pas learning sing dance rain',\n",
       " 'real estate enthusiast working royal lepage atlantic looking sell purchase tweet away',\n",
       " 'thriller entertain scaring changing password author social engineer invasion privacy http co l pvxnrord',\n",
       " 'music library knarkse gon na lot repeat garbage',\n",
       " 'commercial director zignia live member board water happiness',\n",
       " 'published producer songwriter making wavy music odd plug witthat beat inquires email pianoboytod gmail com',\n",
       " 'anti coming soon',\n",
       " 'kind tall hair wear shirt sometimes building mystery',\n",
       " 'metal hammer deputy editor whatculture wwe goon neeerrrrrrddddd',\n",
       " 'read latest hot news world newsviewsworld',\n",
       " 'aunty nut blog love tea love candle space doodle http co awlemdc ut',\n",
       " 'learn create bestseller amazon audio session tell need know',\n",
       " 'frog k',\n",
       " 'producer kennvad uk http co h dtj kl sevenstudio italy booking info douglas entertainment co uk',\n",
       " 'year supporting hereford united sw well body hereford fc onwards upwards united',\n",
       " 'natural californian',\n",
       " 'actor writer filmmaker father husband gamer fanboy got take rock mics right yeah',\n",
       " 'meant along really',\n",
       " 'bitcoin enthusiast',\n",
       " 'formerly known subway serenade known astral technician currently developing global biofeedback laser tag',\n",
       " 'paper chasin paper runnin paper gunnin paper gettin paper havin paper catchin dont forget paper grab',\n",
       " 'get update whatever happening diymagazine easy feed',\n",
       " 'like boybands reading book bit obsessed emmerdale robron instagram rachelh',\n",
       " 'trust one ripspann talk rihanna kingjames might get yo head bus dreambig amosc phineasandferg',\n",
       " 'curating best medium feed redwood city city http co lemjjzzwxs community service medium network social good',\n",
       " 'get want cause ask really deserving',\n",
       " 'tradition excellence year',\n",
       " 'co host xl primetime xl',\n",
       " 'cool kind confused',\n",
       " 'rose affair dedicated helping poor family could afford medical kid',\n",
       " 'content social medium marketing business brand public figure non profit value online reputation personal voice kerijaehnig socialmedia',\n",
       " 'freejalen llh',\n",
       " 'businessinsider roundup expert partner news outlet across medium landscape',\n",
       " 'allergic cheatin hate failure love achievement',\n",
       " 'take business next level amazon bestseller increase credibility income',\n",
       " 'damn man socially awkward extrovert ig sianchristinak',\n",
       " 'hail moon tell father friend cant lock door cause shes already ig helenkdavishkd life saver manager strainaddicts',\n",
       " 'lover life thing artistic creative beautiful especially people mama hollymorwenna finntalisker',\n",
       " 'traveler writer b b host beer drinker kitty petter independent travel beaten track volunteering http co gqnujjc al',\n",
       " 'artist writer devourer potato art atheism feminism science improv politics game health fam nerdy stuff writing weather minutia',\n",
       " 'living depression trying end stigma poor mentalhealth whitney fan nice watch amateur photographer gay graduate aspiring journalist',\n",
       " 'started web researcher got passion seo working seo analyst sem ppc inbound marketing smo lead generation tweet seo general thing',\n",
       " 'writer lyricist coffee enthusiast world class barista semi pro mixologist mbonisigusto gmail com',\n",
       " 'online writing school top instructor great class affordable price',\n",
       " 'alex ac clifford clarkston varsity bowling srt also pool shark ib class wichita maybe',\n",
       " 'fool fall azul verde ddl zayn troye',\n",
       " 'question follow u let u help product support http co egtge se business support http co mm axaey',\n",
       " 'xo',\n",
       " 'apple freak girl love game',\n",
       " 'life short drive boring car slowg http co kt l amr',\n",
       " 'fight good fight faith lay hold eternal life whereunto thou art also called timothy jesus christ way bachelor degree bible study',\n",
       " 'internet marketing adsense im money youtube tip making money online adsense youtube http co gbictcktae',\n",
       " 'choose happy problem world emison hollstein xena gabrielle',\n",
       " 'hi',\n",
       " 'uknetguide find flight book one hotel around world great deal offer',\n",
       " 'food fanatic incurable troublemaker',\n",
       " 'skateboarding money bml',\n",
       " 'ghareebah snapchat saynabeyy prayfortheummah',\n",
       " 'launch book optimize amazon book page increase ranking keep',\n",
       " 'twitter page renfrew county district school board',\n",
       " 'book promotion amazon bestseller program social medium program',\n",
       " 'web marketing expert specializing book promotion',\n",
       " 'pike podcasting est promo music sport lifestyle entertainment politics comic fantasy movie sex debauchery else',\n",
       " 'welcome east public school p e school motto learning start enzo guarnaccia principal',\n",
       " 'connecting people church fellowship grace brother church',\n",
       " 'quit suffer live rest life champion muhammed ali box chadd abc loyalty everything derby season ticket holder',\n",
       " 'project foundation defense democracy followfdd rts favorite following endorsement',\n",
       " 'think second actually care say',\n",
       " 'concern animal welfare h quality specie risk charter right plight wrongly convicted pls visit support http co ilyj mw',\n",
       " 'un fan de football fan du club africain fan du wwe fan du counter strike',\n",
       " 'osceola county rep recording artist pen pimper peace seeker positive vibe pusher ig homelessmillionaire business email allenyorkmusic gmail com',\n",
       " 'follow instagram amandacleghorn taylor swift dancer sytycdc top female',\n",
       " 'deliver apple mac news nearly follower twitter follow u g http co iwja f tg',\n",
       " 'host morning grind morning minneapolis podcast soundcloud http co xew bekf also app lean leftwards',\n",
       " 'make permanent decision temporary emotion',\n",
       " 'different angle http co ndfm burus',\n",
       " 'rose affair dedicated helping poor family could afford medical kid',\n",
       " 'mom currently divorcing comic crohn advocate dr phil social medium contributor member inner circle',\n",
       " 'like fun activity utsa spursnation',\n",
       " 'book promoter',\n",
       " 'book promotion amazon bestseller campaign social medium system',\n",
       " 'catalog change life inspirational motivational metaphysical book program product much much',\n",
       " 'retired sea captain born england eventually emigrated united state continue write enjoyment comfort',\n",
       " 'student university cambridge',\n",
       " 'god first jiggaworld november st clothing line coming soon',\n",
       " 'older think rajna hussain',\n",
       " 'instagram josealejandro skype j',\n",
       " 'provide book promotion amazon bestseller campaign social medium platform',\n",
       " 'clothed strength dignity laugh without fear future proberbs bh senior k free brother codey',\n",
       " 'leading global engineering firm providing professional engineering consulting service leader aerospace automotive energy nuclear sector',\n",
       " 'enjoy weather',\n",
       " 'vendedor de sue o tambien vendo libros',\n",
       " 'instagram briannaamurray',\n",
       " 'professional rock roll accordionist bomber forever',\n",
       " 'get update whatever happening diymagazine easy feed',\n",
       " 'collective genre specific blog combining like voltron provide best coverage imaginable thefullbleed scifitalk geeklegacy thmatrix',\n",
       " 'multi award winning bridal hair make stylist event florist hollywood lash technician',\n",
       " 'latest bostonglobe metro department tweet andyrosen globefinucane jrebosglobe',\n",
       " 'official twitter miami southridge club',\n",
       " 'mayor mizners big kahuna grog grotto level bos player friend finnegan vice president poor judgment crew',\n",
       " 'first greek twitter page cimorelli promos news owned proud fan iownaustinsdick eficimz louu love guy cimfam',\n",
       " 'ryan former cohost get board pod unknown recycle garbage tv lost vhs viewing pleasure',\n",
       " 'leading news source mobile digital health community covering mhealth digitalhealth healthapps subscribe http co bssgljabmf',\n",
       " 'interfaith counselor life coach focus north node astrology spiritual adviser welcome religious faith fold',\n",
       " 'follow cool etsy craft',\n",
       " 'newlos nosecrts ultraslump zona music motion ward',\n",
       " 'follow u get latest news',\n",
       " 'teambelize gemini stapleton eastny ballwaslife',\n",
       " 'support west ham live nz eat macarons support west ham would silent proud husband father gorgeous girl may',\n",
       " 'latest news philadelphia update frequent',\n",
       " 'yea ya man buying mad snack wuts good',\n",
       " 'certified er',\n",
       " 'real music wale fm dab online home big welsh wake niall ruth whats nationradiolive news nationradionews',\n",
       " 'follower jesus christ lover life people enfp starbucks partner',\n",
       " 'kitson flagship store robertson boulevard favorite stop many celebrity hollywood oh offend sorryboutit',\n",
       " 'bringing pie back one slice time furry software hockey often le politically correct wit liver may fucked heart honest',\n",
       " 'princeton herald official newspaper city princeton texas visit website call advertise subscribe',\n",
       " 'eat healthy food stay healthy',\n",
       " 'original content producer earn tsu http co jksk av content attracts view',\n",
       " 'indianapolis city press',\n",
       " 'pr professional writer thinker fitness enthusiast football lover angostura rum fc barcelona',\n",
       " 'video production company filming tennessee texas u capturing video story',\n",
       " 'czech adult model pornographic actress inch natural breast currently livin london follow retweet every day luv u',\n",
       " 'official shrewsbury town football club twitter account bringing latest news shrew salop telephone',\n",
       " 'daily update woman blog',\n",
       " 'johnstown tomahawk junior hockey organization proud member north american hockey league',\n",
       " 'another trying hard fit right',\n",
       " 'love connect online amherst wi milwaukee wi dayton oh rudolph wi neenah wi',\n",
       " 'tira aro ace aspiring artist drawing animal pal telagram skype tiramiwsho carecru alt tatterdneckwear',\n",
       " 'taku fand wh markiplite skelet n clique manicpanda sister many nightmare n enough dream',\n",
       " 'e snapchat juhnior',\n",
       " 'curating best medium feed st louis city http co awasxinsof community service medium network supporting civic cause local art',\n",
       " 'glenoak junior young girl trying make like everybody else',\n",
       " 'private catholic college prep school young men',\n",
       " 'male west midland england spain quality gold chill computer xbox time youtube munkychunky joeysalads ftw',\n",
       " 'blood make related loyalty make family',\n",
       " 'director paid search',\n",
       " 'lel',\n",
       " 'almost never tweet good right',\n",
       " 'intelligent funny narcissistic lazy as introvert math jaguar',\n",
       " 'let anyone tell love love anymore nothing impossible chowan',\n",
       " 'motovlogger london make sure go check video youtube ashalizir instagram',\n",
       " 'miss shot take wayne gretzsky michael scott',\n",
       " 'bianca heart mind soul',\n",
       " 'cheerleader cat herder den mother',\n",
       " 'blessed',\n",
       " 'news analysis perspective epa regulation climate change policy debate',\n",
       " 'union network entertainment professional coming together work promote collectively team',\n",
       " 'deepfin co owner writer humor sport find magic noles jaguar redsox unf dadlife vaping kappaalphaorder brother',\n",
       " 'jordandivero iaurensmith like one twitter who funny course',\n",
       " 'celebrating abundance th way apple festival wednesday th october tweet sent dig devonport co ordinator te wilmot',\n",
       " 'dj creative director visual artist social medium coordinator influencer stylist youtuber bookroxyayala gmail com instagram officialroxyayala',\n",
       " 'shakespearean ucc alumnus dominican esl teacher musician newark new jersey born raised kean spursnation',\n",
       " 'something today future self thank',\n",
       " 'flock fly hail dolan alla quackbar',\n",
       " 'tweet lego legend ssbm',\n",
       " 'fast easy prescription saving right fingertip',\n",
       " 'tlu pre nursing cowboysnation till day die',\n",
       " 'know mad iv always mad',\n",
       " 'earn bitcoin network http co rya jmlz q sell online advertising simple product great potential use bitcoin fully automated',\n",
       " 'african proudly nigerian fashi n del agricultural scientist change seeker feminist basically rockstar',\n",
       " 'new hampshire maine source news strafford rockingham york county',\n",
       " 'lotion producer songwriter lover fighter hated friend many jlo chris brown teyana taylor jojo lot come god willing',\n",
       " 'president personal spaceflight advisor llc author design engineer',\n",
       " '',\n",
       " 'mathy theorycraft type elemental shaman wow usually grumpy cynical',\n",
       " 'god eater zero escape dragon age lover terrible pun anders elf ojicon procrastinator extraordinaire da damixillia',\n",
       " 'dedicated bring news digital world',\n",
       " 'swisha splitta',\n",
       " 'addicted nail polish love stamping plate',\n",
       " 'phoenix city press',\n",
       " 'single goth footfetish',\n",
       " 'writer beautiful unlikely http co v yxqcha mojo collector http co dnchecxj z good thing bad thing',\n",
       " 'god st family boxing muay thai good word action speak louder snapchat vwashington',\n",
       " 'page dedicated martin freeman fan freemartinis join u latest news pic',\n",
       " 'oh good old rebel union nation give damn',\n",
       " 'littlenialler http co j ihq akps',\n",
       " 'source latest news sailing',\n",
       " 'ganking guwop watahpark otf moodyworld',\n",
       " 'ddct',\n",
       " 'louis tomlinson niallofficial love ya man',\n",
       " 'life writing coach proud parent socialist',\n",
       " 'herb gardening proven method grow herb inside outdoors great food tea medicinal herb',\n",
       " 'opinionated like block cry spilled whine',\n",
       " 'wan na save world know',\n",
       " 'sc charli paige',\n",
       " 'happy',\n",
       " 'old account annabellxox locked ffs',\n",
       " 'feminist latina immigrant activist somewhat socialist marxist believe fighting others human civil right united',\n",
       " 'god often speaks christian dior gcb r p',\n",
       " 'rip lovely angel lulu yamil montrico',\n",
       " 'always chef trade chef nature working la rose noire brand manager la rousse food',\n",
       " '',\n",
       " 'cl student ku',\n",
       " 'openrp lewd non mostly dom male thylacoleo awesome best friend mr samusaran open gf betterackerman shapeshifter straight',\n",
       " 'yahoo answer environment alternative fuel vehicle conservation global warming green living',\n",
       " 'shameless pervert nicholaslister tweet plus bunch extra nsfw perverted loonery',\n",
       " 'official twitter account oh src bringing best news update follow u exec jacksonpye gagewood gracie grahamaidan src',\n",
       " 'quiero un amor bonito de esos que te dan mariposa en el estomago',\n",
       " 'meatless grilling guide live bbq fresh',\n",
       " 'news insight team hallmark business connection hallmark b b unit',\n",
       " 'major league producer produced hunnidroundz inquiry hit hunnidmngt gmail com instagram hunnidroundz',\n",
       " 'law graduate aviation personality pilot view post everthing aviation industry analysis news photo lot follow also gat aero',\n",
       " 'littlenialler',\n",
       " 'acme body paint jamaica plain friendly knowledgeable quality body shop let u get back road',\n",
       " 'littlenialler',\n",
       " 'littlenialler',\n",
       " 'fuck trapgangent got ta know get know nigga',\n",
       " 'http co j ihq akps littlenialler',\n",
       " 'woman despair ignorance bigotry like talking apparently quite good transteachersmatter',\n",
       " 'moon love child ig majinpeach',\n",
       " 'littlenialler',\n",
       " 'littlenialler http co j ihq akps',\n",
       " 'known many name may know one going marry higashiyama seika d fc',\n",
       " 'fahima born village harlem nyc producer large pacifica radio work consultant adjunct university professor',\n",
       " 'christian true sense term retired entertainer devout hard center democrat avid political junkie',\n",
       " 'traveling boot dancing shoe',\n",
       " 'u based content writer write good stuff',\n",
       " 'blogger reader feminist uk probably listening halsey obsessing twenty one pilot tumblr',\n",
       " 'game designer gloomth prince obsessive eater food wearer clothes making adr ft threeonezero opinion',\n",
       " 'former cabin crew llb hons sportslaw phd student married boy luca mico writing st book wheelchair user',\n",
       " 'came nothing americus ga carthage tx panola filly philippian',\n",
       " 'lagos',\n",
       " 'till end line',\n",
       " 'littlenialler http co j ihq akps',\n",
       " 'sunset adventure',\n",
       " 'theoretische forschung der naturwissenschaften buchautor schwerpunkt astronomie physik medizin komponist vorwiegend romantische musik',\n",
       " 'clothed strength dignity laugh without fear future proverb ughs class uw madison freshman',\n",
       " 'proud wife american hero combat wounded vet usmc major james frederick wilson supporter human right injustice step mom animal lover hiippy adjacent',\n",
       " 'young run come back need mountain beach snow ocean',\n",
       " 'pessimistic diehard united fan rant lot mufc united',\n",
       " 'rip bean good bad die carry',\n",
       " 'hooper dont descriminate girl welcome',\n",
       " 'james bond put kinda shit love strifechaospain life hisprincess',\n",
       " 'currently playing wzbc fm boston',\n",
       " 'sun music internet radio flowing free demand adult urban alternative featuring four music style buy hear listen',\n",
       " 'ct',\n",
       " 'yahoo answer environment alternative fuel vehicle conservation global warming green living',\n",
       " 'web designer front end developer digital medium enthusiast fitness fan love football travelling mac good cup tea coffee always help',\n",
       " 'life little kitten please give hug daily open dm mp ouverts sexual orientation n',\n",
       " 'nation leading voice underground alternative punk music youth culture print online since follow u news music',\n",
       " 'failure failure try',\n",
       " 'wwu seusayahh',\n",
       " 'artist co founder tripmusicgroup creative director inquiry contact mike p funkyd gmail com ig blacasso x tripmusicgroup',\n",
       " 'believe keep god first thing possible',\n",
       " 'baby could enough',\n",
       " 'social medium junkie love travel photography actor lake lover startup adviser',\n",
       " 'llsd',\n",
       " 'next rated music promoter massive music video artist promotion web design contact info loyaltyloaded com',\n",
       " 'potty mouth blondie gamer wrestling fan soldier little monster bit nerdy',\n",
       " 'herb gardening enthousiast share simple yet practical tip help struggling herb gardener achieve beautiful healthy herb garden year',\n",
       " 'asst professor chief marketing communication officer consultant artist',\n",
       " 'birmingham',\n",
       " 'ceo founder bragg live food life extension nutritionist author health crusader speaker nutrition adviser world leader hollywood star',\n",
       " 'backup page follow page plus instagram reddick reezy snapchat reezy http co wzeghuecbm',\n",
       " 'live milwaukee wi love sport small family ask anything likely give interesting response',\n",
       " 'passionate equality feminism fairness labour member pro corbyn',\n",
       " 'music production dj http co ii ah',\n",
       " 'laid back cat allergic dumb azz people goin joker anger management go ahead test hit mansitchoazzdown',\n",
       " 'yahoo answer environment alternative fuel vehicle conservation global warming green living',\n",
       " 'supply chain management news published daily scm supplychain procurement logistics',\n",
       " 'music inquires verse collabs booking contact johnson isaiah gmail com late night turnt early morning coming soon http co jnq epqjed',\n",
       " 'witnessing jesus preaching teaching saving healing',\n",
       " 'andrea giantsnation',\n",
       " 'tweet latest job offer detroit',\n",
       " 'july unit digital stimulation forget history unit early year community library record label',\n",
       " 'booking feature contact wesley crutcher fiveout phlatlineco crewgq chiraq remix video',\n",
       " 'erin nc im joke http co tfn qzip',\n",
       " 'really know dead actually care',\n",
       " 'london put suicide note',\n",
       " 'ceo founder suntex strategic investment ltd private investment banking ps worldwide top world hotel resort',\n",
       " 'enthusiast computing ageek webdesigner webdeveloper softwareengineer beniceandfollowback pin b business',\n",
       " 'organic noshables sundries marketing pr pro instagram organicexpert anitamariegriffin gmail com',\n",
       " 'child god father husband son fan hiphop adidas thunder er giant cardinal stanford rattler famu',\n",
       " 'aunty nut blog love tea love candle space doodle http co awlemdc ut',\n",
       " 'curly boy cheshire reason',\n",
       " 'bocce burger beer twistandsmashd',\n",
       " 'smash arena',\n",
       " 'directioner kalesquad followed alfie deyes quisha beckii photography adict one direction tuber',\n",
       " 'eributt eribot erinland erin clock icon header tirralirraa',\n",
       " 'hi gale best friend sorry dmmd opm undertale draw write sometimes monster enthusiast funkmaster r ish',\n",
       " 'part time pirate psychotherapist urban fantasy',\n",
       " 'development somalia medium pr uk tweet opinion disclaimer view reflect employer instagram harbi jama',\n",
       " 'fiance burial host doosintamriel http co iypsgsv z casual tesonline',\n",
       " 'wet ready yeti',\n",
       " 'may cool never marching band cool',\n",
       " 'hey liam payne angel',\n",
       " 'eustache davenport herb gardening enthousiast author enjoy knowledgeable tip revealing article free website',\n",
       " 'extremely amazing auction',\n",
       " 'illustrator michigan snake help im obsessed snake',\n",
       " 'orlando pirate supporter bcom economics graduate financial planner investment banker barclays africa god everything',\n",
       " 'drain pressure swelling amazing family louisto blueyedsnake hazzaboo subtwinklou',\n",
       " 'hotline never bling',\n",
       " 'motion design graphic',\n",
       " 'fuck given zone consider forewarned welcome world u navy japan living rip gz love always cuzzo',\n",
       " 'procannabis propsychedelics antiorganizedreligion multicultural governmentsceptic musician soundengineer outdoorsman longrangeshooting hdmc wtf',\n",
       " 'infp guren ichinose enthusiast matching thecivilunrest',\n",
       " 'hmi buzz multimedia company dedicated document haitian american experience',\n",
       " 'support uk withdrawal european union leaveeu voteleave enoughisenough believeinbritain ukip member',\n",
       " 'uncg',\n",
       " 'blue jay fan enjoys great play player team cometogether saveit',\n",
       " 'chase sun',\n",
       " 'follow u latest update job opportunity cricket additional detail working cricket visit website http co tkkwukbslc',\n",
       " 'month thats like year',\n",
       " 'started turn fangirl since joined crazy troyesivan grantgustin r family potterhead coconuterforlife',\n",
       " 'richard rider name autocorrects richard ridiculous openoffice kind say',\n",
       " 'yoke indemfam jordanrealize',\n",
       " 'voiceover extraordinaire key songstress wannabe actress awesome extra mostly try daughter momma raised peace',\n",
       " 'archdrake pilgrim got tired hanging shrine joined shittiest social network ever neutral arbiter meme',\n",
       " 'kid livecalmafrica',\n",
       " 'normal lass trying good person every day adult time treat break real life',\n",
       " 'barbarian',\n",
       " 'america next master chef',\n",
       " 'question bestbuy need support let u know help x',\n",
       " 'food dining tweet http co waiq c r u best bite blog',\n",
       " 'got angel got demon im biggest hypocrite',\n",
       " 'tweeting mufc mufcu mufcu mufcu ireland hli admirer peoplesperson contributor view coybig',\n",
       " 'smile frown',\n",
       " 'chanel',\n",
       " 'ez read hard put',\n",
       " 'hidup hanya sekali hidup lah yg brarti imam zarkasyi',\n",
       " 'christian laugh snorter camping fan hair stylist slightly enchanting alcohol ninja',\n",
       " 'gordon brown eagle scout brown bone',\n",
       " 'author lover antiheroines unapologetic geek brownish smasher smartphones patriarchy roof son raise',\n",
       " 'addicted twitch lirikh shortyh',\n",
       " 'think really funny probably',\n",
       " 'san siro never word say asking stay zaynmalik met benji fede',\n",
       " 'teacher football lover reader',\n",
       " 'red cape coming',\n",
       " 'hate kyosukekiyo according possible vampire birthday',\n",
       " 'resource seniorliving industry assistedliving',\n",
       " 'call j lenni lenape reference speculative fiction fantasy writer blogger atozchallenge nanowrimo boutofbooks http co yc ewwtrqt',\n",
       " 'jean pocket',\n",
       " 'callofduty newsbot',\n",
       " 'want help promoting event venue even music release twitter facebook well look please email jay smpromngr co uk info',\n",
       " 'university hertfordshire student',\n",
       " 'wan na know got scar',\n",
       " 'tell mother love',\n",
       " 'survivor sibling abuse trauma referral therapy sibling abuse survivor national author activist virtual assistant',\n",
       " 'love montrell broadway',\n",
       " 'focus',\n",
       " 'extremely awesome offer',\n",
       " 'candidate mayor stl wrestling boxing muslim book available http co rwjfdidk',\n",
       " 'innovative way earn make money online internet marketing global lottery money market foreign exchange market trading',\n",
       " 'waterloo',\n",
       " 'eye rolling way ppls heart since',\n",
       " 'labor councillor hill shire council manager disability sector',\n",
       " 'lil vegan studying science ig peaparker',\n",
       " 'http co qncpmry',\n",
       " 'live life g teamenvyus fav spam legend follow',\n",
       " 'family soap football tweet soap related enjoy',\n",
       " 'fuck',\n",
       " 'follow teamindy info event local music local business deal interested social medium marketing email teamindy gmail com info',\n",
       " 'u hate anything dont understand try understand thing interested extreme human nature baseball hockey',\n",
       " 'really love one direction',\n",
       " 'encantan los perros la naturaleza soy buena amiga leal fiel entregada amo leer imaginar pensar',\n",
       " 'teambuck tim sayin love george washington constitution tequila merica known alias steve rogers',\n",
       " 'so band r little mix vamp ed demi shawn teen wolf pll charmed oth glee dylan brien potterhead',\n",
       " 'time warped tyrannosaur',\n",
       " 'slept motivation success making westlake highschool wide reciever',\n",
       " 'final year french study student ligue analyst frenchftweekly gfn france onzeotv scouting analysis general enquiry brendanfrenchfootball gmail com',\n",
       " 'enjoying journey',\n",
       " 'love forever zrg power love overcomes love power world know peace feelthebern',\n",
       " 'face launched thousand subtweets author last call nightshade lounge quirkbooks repped jenniegoloboy',\n",
       " 'corgi fur fursuiter cosplayer crafter anime scifi fan animal lover car geek around nerd love hibaakaiko owner collaredcorgi',\n",
       " 'hottest retail sale job opening lead updated every minute major city',\n",
       " 'rap artist',\n",
       " 'english bot shalltear bloodfallen overlord mod najenda overlord anime',\n",
       " 'chelsea fc thibaut courtois eden hazard instagram faheembutt',\n",
       " 'professional dancer turned lifestyle blogger loving life color',\n",
       " 'czech adult model pornographic actress inch natural breast currently livin london follow retweet every day luv u',\n",
       " 'hey whats',\n",
       " 'steroline',\n",
       " 'dj producer',\n",
       " 'author podcaster interest include pop culture wwe sport paranormal tweet lot song lyric game',\n",
       " 'south',\n",
       " 'desperate michael follow',\n",
       " 'managing editor http co ep vf kqfk miami dolphin fan since avid ball watcher huskers since',\n",
       " 'blade',\n",
       " 'louisville public school home lion roaring excellence preparing student future',\n",
       " 'airhead lol find somewhere yellow brick road',\n",
       " 'sc princesskathey',\n",
       " 'internet marketing consultant author love seo sem social medium inbound marketing blogging startup follow valpopescu',\n",
       " 'largest multilingual collection real time aviation news',\n",
       " 'oned coldplay so edsheeran thescript bastille http co kpg ux vyk still laughing http co kfpa jo ml',\n",
       " 'simple',\n",
       " 'fine as soul snatcher soft spoken ratchet photographer lover cheese fry snap noti saidthecat',\n",
       " 'love kid mr zil mum dad dog arsenal stoke newington born bred',\n",
       " 'love work alot great relationship friend family great alot fun well',\n",
       " 'parkland la salle university volleyball',\n",
       " 'tom editorial page editor beaumont enterprise always interested going se texas especially anything connected politics',\n",
       " 'bot pesadeli tweet randomizer',\n",
       " 'food mu',\n",
       " 'rest easy carlitos',\n",
       " 'nice guy baha pondering apologetics religion atheism opinion mine may may agree others peace',\n",
       " 'life short even care uofl nursing major k jazmyn twin',\n",
       " 'quiet artful dodger lefty bucn letsgopens steelersnation mufc dubnation',\n",
       " 'http co b tphsvqmj',\n",
       " 'freelance photographer owner editor online newspaper catch instagram youtube username',\n",
       " 'live sunny wilmington nc ambassador wilmington chamber commerce husband also second home suburb pittsburgh',\n",
       " 'much everything vice music film tv writing photography blogging social medium technology radio sport',\n",
       " 'match business need help social medium mum trained social medium manager featured guardian mailonline',\n",
       " 'tweet http co oj zivzny mp best seller new release genre participant amazon eu associate programme',\n",
       " 'developing software qt qml io android blackberry tizen linux osx etc',\n",
       " 'allah obey messenger mercy upon ali imran',\n",
       " 'love marketing writer former airline pilot health exercise nut work infusionsoft founder http co tmcmikt r view',\n",
       " 'publishing original work author guilty pleasure',\n",
       " 'drawing drawing drawing',\n",
       " 'mit data science start developing advanced analytics based intuitive data flow technology',\n",
       " 'comic book head dick small identify big dick nigga transbigdick live cleveland beat occasion eat as',\n",
       " 'syracuse ig chipndale',\n",
       " 'helping create marketing campaign recognised originality value driven tweet joshchandler',\n",
       " 'fwc street wear ig liljaysoicy',\n",
       " 'freedom looting',\n",
       " 'gifted talented admistrator environmental science artist gardener son born raised new orleans gone global',\n",
       " 'serve least give least go saved matthew',\n",
       " 'sleeping dream maeve see feel sweetest relief imaginable',\n",
       " 'husband father grandfather',\n",
       " 'free spirit wild heart',\n",
       " 'great white shark',\n",
       " 'videogaming relapsed pacaddict mahjong playing tv watching window phone loving progressive pro electoral reform cyborg creature',\n",
       " 'muslim football ynwa liverpool gerrard thanksstevie kop kopites aboutrika jan anticoup palestine syria',\n",
       " 'highly imposing review',\n",
       " 'ant man enough giant man figure make tough enough someday invent another persona',\n",
       " 'trans gay feminist thanks contributor gww reviewer newsarama hit ck cucco gmail com icon eiffelart',\n",
       " 'penn state grad architect designer',\n",
       " '',\n",
       " 'literally live shawn mendes smile shawn please follow kid love please come greece',\n",
       " 'fue en ese entonces cuando dej de huir porque di cuenta de que era la nica que segu',\n",
       " 'listener find real job half man shade shy older lady ig keneamazu',\n",
       " 'bot post tribute befitting god deathmtn banner metroidbaby powered wordnik',\n",
       " 'everything okay coolio bean',\n",
       " 'performance partner control',\n",
       " 'ronzoni leading pasta brand providing healthy meal entire family',\n",
       " 'downtown orlando premier nightclub entertainment complex music venue year formerly named firestone live tweet u info show',\n",
       " 'one man love thing geek',\n",
       " 'buzzbuzzhome improving way people search new construction home queen bee buzzbuzzhome',\n",
       " 'kumpulan berita terkini',\n",
       " 'rona largest canadian distributor retailer hardware home renovation gardening product rona',\n",
       " 'ceo founder louis espinoza came back musician musician record label musician rock avenue record usa created',\n",
       " 'biology student university hull love football arsenal fc',\n",
       " 'decide',\n",
       " '',\n",
       " 'atheist sport fan metalhead',\n",
       " 'accident crime scene reconstructionist love animal support several animal rescue charity',\n",
       " 'southbayla scumbags chico',\n",
       " 'wavy',\n",
       " 'community builder connector rescue dog collector ucla er whiskey taco tech doer thing ga la dtla grid',\n",
       " 'never give meeting sunshine happen even dont think',\n",
       " 'page dedicated amazing presenter host interviewer rayascoop',\n",
       " 'set raise man glory',\n",
       " 'god within fail',\n",
       " 'writer focus sport sport law gender sport work found vicesports deadspin knbr fangraphs among others find hangingsliders gmail',\n",
       " 'god first living beyond status inspirational existence teamusher teamlh teamscorpio',\n",
       " 'sofo',\n",
       " '',\n",
       " 'digital assistant blogger interested luxury fashion sustainable design dimplesblog hotmail co uk',\n",
       " 'san diego',\n",
       " 'father awesome son canadian men team supporter forever loyal leaf fan tfc l pa voice solely opinion',\n",
       " 'relation life long detroiter rts endorsement huffpostpol editorial fellow michiganstateu spartan',\n",
       " 'snatch girl trippin line like fishing snapchat dcd',\n",
       " 'escribe en milenio esquirelat letras libres stargazer en este negocio si tienes fama de monstruo eres una estrella want pop idol',\n",
       " 'editor beauty guide cityline beauty expert',\n",
       " 'baby perfect',\n",
       " 'com aviation specialises recruiting highly skilled aviation aerospace professional aviation job within design maintenance repair',\n",
       " 'tweet relating ge general election',\n",
       " 'sick want different',\n",
       " 'love surfing taking care dog photographer full time online marketer',\n",
       " 'fitness fairy godmother nasm certified trainer award winning writer lb lost tkoed wife sneeze blog post get sicker fitfluential',\n",
       " 'kent state psychology major tri valley class',\n",
       " 'germany band tv show youtubers',\n",
       " 'meh',\n",
       " 'huge fan doctor reader book writer stuff future novelist full time procrastinator really mad woman pen',\n",
       " 'd news reddit',\n",
       " 'thedalailama gsu statenotsouthern chemistry',\n",
       " 'hertfordshire',\n",
       " 'cumberbitch cumbercollective account benedict sherlock going find boring saw hamlet oct',\n",
       " 'follow instagram misbritbrit',\n",
       " 'stop drinking captain morgan put foot proud sweetheart kb philadelphia esu',\n",
       " 'gabriel aka frosting angel surprised vessel diabetes yet vesselofamoose sexy angel spn rp comicalhalfling',\n",
       " 'base belong u',\n",
       " 'visit benicia great day bay',\n",
       " 'advocate thing natural lover rich soil food old school flock redefining iconic american farm sharing design beauty bounty',\n",
       " 'name actually nancy',\n",
       " '',\n",
       " 'pete pigeon superheroes',\n",
       " 'turning dream reality allglorytogod wccc petroleum oil technology',\n",
       " 'http co rgtv drj',\n",
       " 'one adorkable warcraft player lil m f ckin sunshine gim beard geek cat coffee n bacon yes awesome farted oh pirate joopiter',\n",
       " 'guy thing one time stuff like skype vusi manana ig rev nana',\n",
       " 'world fastest growing seo small big job service buyer seller meet',\n",
       " 'thisschmoney myfamily',\n",
       " 'din navajo native american american indin american',\n",
       " 'walking away instagram gpeternity',\n",
       " 'evoluci n',\n",
       " 'czech adult model pornographic actress inch natural breast currently livin london follow retweet every day luv u',\n",
       " 'illustrator artist designer author http co zami pcv tip advice freelancer infoartblog graphictide',\n",
       " 'mermaid dont homework',\n",
       " 'iraq iraqi armenian http co k rxgfrwpl',\n",
       " 'disciple husband father son pastor author fb http co vtyonb cz teamjesus kingdomcovenant hypergrace navyvet',\n",
       " 'currently bun time humanproblems',\n",
       " 'tweet inspiring fun unusual extraordinary thoughtful delicious relevant livereal livepositive craphappens persevere happinessexists',\n",
       " 'christ follower husband dad pastor love local church leadership toronto maple leaf fan judge',\n",
       " 'rip carterrio johnson',\n",
       " 'favs markiplier jack septic eye stevoptweets bubblebutt c markipliershero septicarmy meowipliersquad dayyss x',\n",
       " 'phd student political theory vice freelancer newfoundlander exile write canada stuff pic courtesy fogtownfemme',\n",
       " 'hi based hertford interested working home help others achieve learn http co h htrnyj',\n",
       " 'geek dad husband geopolitical photography coin car financials foodie pro family pro military pro capitalism pro america',\n",
       " 'job dvr watcher mitsubishi driving burger lovin jordan buying wooooooo coolest daddy world ever seen wooooooo elbow drop',\n",
       " 'covering latest news area science tell u think weekly scientific invention discovery',\n",
       " 'mechanical mechatronic engineer binge watcher meantime tech news addicted pgp http co tliufa',\n",
       " 'hi let friend',\n",
       " '',\n",
       " 'hello time lord aged proud working class year old dog called muttley died rd june rip refugeeswelcome',\n",
       " 'primeonly online surplus electronics power adapter computer part laser optic industrial control beekeeping supply new u seller',\n",
       " 'hustlerneur frg foreign',\n",
       " 'wsu',\n",
       " 'king eric cantona time ysb',\n",
       " 'sport writer capital baltimore sun medium group stadium journey ny jet yankee terps marist columbia md via nj w wife daughter border terrier',\n",
       " 'paradigm hifter follow yourbeautybliss order iconoclast http co ybodpzsuja',\n",
       " 'link news dominican',\n",
       " 'highly plusher deal',\n",
       " 'dah vy multimedia artist pianist http co wbwnqj iwt',\n",
       " 'want ask accomplish given new limitless possibility existing beyond scope meagre reality',\n",
       " 'excuse got spelling test',\n",
       " 'dreamer loving life goodness people like live countryside encircled pet write poem read life',\n",
       " 'wait meet lil princess feb th',\n",
       " 'gamer take bullshit anyone',\n",
       " 'reptile lover owner custom handmade decor reptile check etsy shop message u question order',\n",
       " 'assassin creed news reddit',\n",
       " 'get free bitcoins http co bn sdbjb btc faucet',\n",
       " 'hull band n eminem',\n",
       " 'resume http co qq olv qpl',\n",
       " 'charles francis meditation teacher huffpost blogger author mindfulness meditation made simple guide finding true inner peace quote love',\n",
       " 'gay ny costa rican guatemalan',\n",
       " 'theopaphitis sbswinners sbsmonthlywinner ranked th uk review online pmlunch fblikehour host seen madeinleeds',\n",
       " 'loveahappyending lifestyle magazine contributor uk u canada lahe',\n",
       " 'sina costume artist singer chief editor cohakumagazin german ambassador scg',\n",
       " 'deb n hair salon award winning hairdressing loreal colour trophy regional final winner stylist rikki theodosi instagram rikkitheodosi',\n",
       " 'sorry lame username',\n",
       " 'hi sindy love ulzzang gyaru fashion makeup circle contact coffee',\n",
       " 'update news upcoming event confboardofcda live tweet event',\n",
       " 'take back basic simple life',\n",
       " 'johnstown tomahawk junior hockey organization proud member north american hockey league',\n",
       " 'product grace search everyday grace sometimes sassy mostly southern woman love jesus life laughter latte extj',\n",
       " 'lancashire music station fm chorley fm preston south ribble fm blackburn darwen hyndburn snapchat thebeeradio',\n",
       " 'alt writing twitter internet superstar lord daddy dont follow plz anything spicy personal main twitter live',\n",
       " 'ilona horvath business woman musician artist kind let beauty melt soul',\n",
       " 'maried tanya daughter shaunie chantel shanice also two grandson rylie kayne',\n",
       " 'rough tasteless',\n",
       " 'youtuber gamer boyfriend got life',\n",
       " 'still rip dad',\n",
       " '',\n",
       " 'love fuck lot straight lesbian boy girl welcomed follow dm contact',\n",
       " 'director global brand business development mullenlowegroup former yacht queen intersailclub',\n",
       " 'alex cena financial analyst equity research professional institutional investor avid outdoorsman photographer',\n",
       " 'tweet dumb stuff including limited superheroes tokusatsu anime walking dead robits video game total loser',\n",
       " 'president founder propheta communication inc manhattan based public relation agency team bridge gap perception reality',\n",
       " 'basically cure world problem erectile dysfunction',\n",
       " 'trying refigure thing fishery marine ucdbc',\n",
       " 'official account st pancras international destination station transport dining shopping art culture',\n",
       " 'teamstupidaf teamskinnyaf teamdrinkspiritonsundaytogetspiritual teamgetdrunktweetwakeupdelete teamdontcare teamsupport teammafisi teamhigh teamteam',\n",
       " 'loving memory luke skywalker aint dead yet missing hw',\n",
       " 'crowdsourcing innovation finnd connects fed govt industry academia solve hard problem overcome obstacle contracting process',\n",
       " 'crazy one misfit rebel troublemaker',\n",
       " 'member haunted event uk team global cpfp manager ppg pmc',\n",
       " 'lover fighter networker thing men',\n",
       " 'bang thy head rock thy beard circle thy pit hoist thy ale rejoice also drink beer vocal allfatheruk',\n",
       " 'moses make tea hebrew',\n",
       " 'personal assistant website admin wildoutcrewgh crazy love bae favorite',\n",
       " 'rep summer club zante live night remember never forget view',\n",
       " 'stay focused extra sparkley chs',\n",
       " 'five hospital florida hospital largest hospital system serving volusia flagler county resident',\n",
       " 'alex g rard draw badass cute thing get touch contact icybomb',\n",
       " 'thought atheist realized god',\n",
       " 'professional footballer qprfc nikeuk athlete co founder excelracing co founder ca football course proud dad',\n",
       " 'holland enterprise freak harvick periscope dad nascar harvicknation thecup thewin cowboy trojan bama dodger thankatruck',\n",
       " 'staff columnist toronto star write saturday news mon wed five neat guy opinion page email hmallick thestar ca',\n",
       " 'football enthusiast mufc redarmy bastian schweinsteiger manchesterisred',\n",
       " 'growth hacker nerd online marketing manager vionelfilm vionel also foodie gym junkie notorious traveler blog http co omol oqmj',\n",
       " 'blackfish born prairie heart ocean tilikum kiska freelolita tweet taiji seashepherd opgrindini',\n",
       " 'peace life love freedom music r p ashley mccrae r p kk jetlife snobmob tde tgod highpointe allcaps instagram m kushington',\n",
       " 'chair peopleslobbyusa vicar firsttrinitychi tweeting progressive politics global political economy snarky theology miley cyrus',\n",
       " 'say say gone',\n",
       " 'professor philosophy city university new york',\n",
       " 'die wan na go hell cause piece shit hard fucking tell',\n",
       " 'deltek govwin solution designed specifically gov contractor aiming grow business win contract',\n",
       " 'yearsold',\n",
       " 'perhaps insanity see life rather cervantes',\n",
       " 'humanely reducing cat population via tnr serving model mentor community vision ending euthanasia cat shelter',\n",
       " 'regelmatig nieuwe tip foto video inspirerende quote eigenaar van cadeaus nl tshirt nl',\n",
       " 'twitter page missional community river city church',\n",
       " 'hi everyone machinima partnered youtube http co fx frbwkq sub twitch dolphin dive pro cambridgeshire',\n",
       " 'defender secular space feminist sometimes writer sometimes reader',\n",
       " 'glad live world october',\n",
       " 'ibm system middleware hardware built today digital economy follows ibm social computing guideline maintained catnickery skatzenmaier',\n",
       " 'treat like harry style would treat',\n",
       " 'puertorican love dance play guitar music mean lot',\n",
       " 'chs senior thespian',\n",
       " 'new improved apple ibear hd',\n",
       " 'never work alone',\n",
       " 'arsenal theozilan manuel lanzini marc bartra adam lallana enthusiast',\n",
       " 'sing band nascum engadget reporter gingercaster gingercast cat lord',\n",
       " 'strafford high school located strafford mo',\n",
       " 'like imperfect poem incomplete piece art flawed still flawless access nj lj',\n",
       " 'sharkwave mine',\n",
       " 'alphacrew',\n",
       " 'official twitter account purdue university',\n",
       " 'sahmama trying figure go slimming world stone loser weightloss pblogger dash autism thrown fun',\n",
       " 'technology news blog http co kr fg e u',\n",
       " 'suffer much pep needed pep outlet love genre fiction tv analysis liberal politics wine contributor http co laglmkjkkm',\n",
       " 'god madridista',\n",
       " 'account trying keep track everything happens popular subreddits reddit bit simply post others post reddit',\n",
       " 'luxury good store featuring watch leather silver jewellery gun rifle maker bruton street w j qx',\n",
       " 'happy wife mom blogger functioning jesus coffee',\n",
       " 'duck',\n",
       " 'inspiritangelbabyarmyboicestarlight tionlovelyzstan',\n",
       " 'structural biology bioinformatics cephalopod felid comic butt team gay team poly',\n",
       " 'god bless',\n",
       " 'pdx portland state university student recording connection',\n",
       " 'trix kid',\n",
       " 'marketing http co il mj xzsq work globally recognized company deltek pet fish passion flying boating awesome life',\n",
       " 'wsra association recycling professional work expand knowledge enhance skill advance career member',\n",
       " 'bitter iris west stan iwds',\n",
       " 'growing marginal crop poor land',\n",
       " 'little danger eye wan na know plan maronitheboss call babe maturecontent rp reckless gotham',\n",
       " 'entertainer enetepreneur event consultant super model sanguine adventerous professional dancer creative',\n",
       " 'vi vi r call maybe two dad queria rica http co pygqy sfx nat bea vic',\n",
       " 'struggle build break',\n",
       " 'god love yoga health luxury washingtonian chicago hoya bison trying balance lawyer half yogini half',\n",
       " 'kind big deal',\n",
       " 'simple running chic line simple like life simple life race comfortable',\n",
       " 'http co vb yj e',\n",
       " 'basically phan trash tweet random shit k bye',\n",
       " 'friendly exciting pop music forum discus pop music culture join today get access free downloads',\n",
       " '',\n",
       " 'wife colin mama daniel kyle joshua reg blogger amateur photographer teaching assistant reader teaching student painter',\n",
       " 'tweet relating ge general election',\n",
       " 'runner cyclist reader book lover animal beer connoisseur vegan',\n",
       " 'demon swordsman makaalbarn mrcoolguysoul everything used drown sadness look towards tomorrow sserp multirp',\n",
       " 'lightskin princess mixed chick fifteen proving wrong ashtin cade foulger',\n",
       " 'entrepreneur networkmarketing professional twitter instagram marketing coach beginner guide twitter recruiting http co olk yk zc',\n",
       " 'designer web professional internet fangirl netflix addict',\n",
       " 'otrapink grade c c caca disgusting',\n",
       " 'dundee home away dtid',\n",
       " 'mean girl',\n",
       " 'probably somewhere jennaaucoin stfx',\n",
       " 'play call duty odinesports lan nerve hankzy bae',\n",
       " 'ignatius l donnelly associate professor old weird american secret canadian gilded age digital geek gaming big alternate two fisted history',\n",
       " 'sing supper',\n",
       " 'yeah sorta jazzy red sox patriot bruin terps',\n",
       " 'top gun elite u south lake',\n",
       " 'win learn never lose',\n",
       " 'white girl phenomenon guide thephenomenalee youtube vlogger training super smash brother addict college senior',\n",
       " 'homemade cake jar est june sierrassweetlayers ssu',\n",
       " 'specialising digital pr affiliate marketing brand collaboration follow u instagram http co ldykjrnwvs',\n",
       " 'michael janet jackson inspired many people music dance michael effort help child dont ever forget michael jackson',\n",
       " 'lover life lover christ',\n",
       " 'graphic mostly im bored im playing watching streamerino yo scandinavian',\n",
       " 'embarque expresso de hogwarts com gente desde',\n",
       " 'scorpio season among u shadesofshe',\n",
       " 'destiny game news reddit',\n",
       " 'technology news blog http co kr fg e u',\n",
       " 'year young montreal piece john abbott college',\n",
       " 'liltunechi malekrose izzoland aubreerose panama maxb gunzworld lilly lebron ava',\n",
       " 'full time dreamer vibe master',\n",
       " 'best thing life unseen close eye kiss laugh dream',\n",
       " 'analyzing dream year use psychoanalytic technique jung freud etc dream alcoholism addiction ptsd recovery issue',\n",
       " 'viajes trave de aventura medida en bolivia expediciones x amplia experiencia en manejo road en la amazon el altiplano dakar overland',\n",
       " 'find local hookup casual sex discreet affair',\n",
       " 'badlandsgrl shypunks ur chocolate donut',\n",
       " 'color comic',\n",
       " 'donorhut make fundraising easy best free safely securely accept donation online directly bank account',\n",
       " 'award winning producing theatre belfast month conor mcpherson nightalive oct',\n",
       " 'meh',\n",
       " 'northwelland business improvement area home thriving diverse blend retailer restaurant service canada vibrant rose city',\n",
       " 'rt mean love two favorite thing commitment changing expert fuck constitution say constitution',\n",
       " '',\n",
       " 'hard rock band gulf coast usa new adrift e p soon',\n",
       " 'o rock erreap la felicidad e una carta de la baraja itsirenneg instagram sergiiip snap sergiiip',\n",
       " 'offering artist audience unprecedented opportunity artistic exploration collaboration big ear return march april',\n",
       " 'cpa business owner writes every day small business public policy washington post weekly forbes inc huffpo entrepreneur',\n",
       " 'born sweet delight born endless night herehavemyheart little lamb',\n",
       " 'youngstown warren urban radio station',\n",
       " 'intermountain region sport comment sociopolitical issue dislike major party veteran advocate reform vamc utpol natsec',\n",
       " 'body made video game',\n",
       " 'tune theboxshowng sat pm rainbow fm lag wed pm sapientia fm onitsha friday caritas fm enugu pm bca radio abia pm ksmc kaduna pm',\n",
       " 'block la familia wash hts help get son p get maury flow maury show',\n",
       " 'pizza',\n",
       " ...]"
      ]
     },
     "execution_count": 30,
     "metadata": {},
     "output_type": "execute_result"
    }
   ],
   "source": [
    "description_list"
   ]
  },
  {
   "cell_type": "markdown",
   "id": "120ccc23",
   "metadata": {},
   "source": [
    "# Bag of Words"
   ]
  },
  {
   "cell_type": "markdown",
   "id": "bd1f703f",
   "metadata": {},
   "source": [
    "3 adet cumlem olsun:\n",
    "- 1) merhaba ben geldim\n",
    "- 2) merhaba sen okula git\n",
    "- 3) merhaba ben okula dondum\n",
    "- ilk cumlenin her kelimesini feature yapar \n",
    "- ikinci kelimede merhaba haric sen okula git kelimeleri yine feature olur\n",
    "- islem tekrarlanir \n",
    "- her satırda bu columnlar guncellenir ve olmayan kelimeler eklenir, olanlar ise isaretlenir.\n",
    "- yani her bir satır cumleler, her bir sutun ise kelimelerdir."
   ]
  },
  {
   "cell_type": "code",
   "execution_count": 31,
   "id": "8fdb104b",
   "metadata": {},
   "outputs": [],
   "source": [
    "from sklearn.feature_extraction.text import CountVectorizer\n",
    "#bag of words yaratmak icin kullanilan method"
   ]
  },
  {
   "cell_type": "code",
   "execution_count": 32,
   "id": "9cddf5d8",
   "metadata": {},
   "outputs": [
    {
     "data": {
      "text/plain": [
       "(16224, 2)"
      ]
     },
     "execution_count": 32,
     "metadata": {},
     "output_type": "execute_result"
    }
   ],
   "source": [
    "data.shape"
   ]
  },
  {
   "cell_type": "markdown",
   "id": "0df224c8",
   "metadata": {},
   "source": [
    "bu datada en cok kullanilan 500 kelimeyi sececegiz."
   ]
  },
  {
   "cell_type": "code",
   "execution_count": 33,
   "id": "c99520be",
   "metadata": {},
   "outputs": [],
   "source": [
    "max_features = 500"
   ]
  },
  {
   "cell_type": "code",
   "execution_count": 34,
   "id": "f7d9b683",
   "metadata": {},
   "outputs": [],
   "source": [
    "count_vectorizer = CountVectorizer(max_features=max_features,stop_words=\"english\")"
   ]
  },
  {
   "cell_type": "markdown",
   "id": "015627df",
   "metadata": {},
   "source": [
    "- stop wordler(gereksiz kelimeler) cumlelerin icinden cikarildi.\n",
    "- ayni zamanda istersek burada kucuk harfe donusturebilirdik lowercase yazarak.\n",
    "- token_pattern kullanarak nokta unlem gibi seyleri ortadan kaldirabiliriz bunu biz re.sub kullanarak yapmistik.\n",
    "- bunlarin hepsini CountVectorizer'i kullanarak yapabiliyoruz."
   ]
  },
  {
   "cell_type": "code",
   "execution_count": 35,
   "id": "91a41310",
   "metadata": {},
   "outputs": [],
   "source": [
    "sparce_matrix = count_vectorizer.fit_transform(description_list).toarray()"
   ]
  },
  {
   "cell_type": "markdown",
   "id": "b31f0227",
   "metadata": {},
   "source": [
    "- methodu cagiriyoruz, fit yapip uyarla bunu sparce_matrix'e esitle"
   ]
  },
  {
   "cell_type": "code",
   "execution_count": 36,
   "id": "094cbfa5",
   "metadata": {},
   "outputs": [
    {
     "name": "stdout",
     "output_type": "stream",
     "text": [
      "en sık kullanilan 500 kelimeler ['account', 'activist', 'actor', 'addict', 'adult', 'adventure', 'advocate', 'alum', 'amazing', 'america', 'american', 'angel', 'animal', 'anime', 'app', 'area', 'art', 'artist', 'ask', 'aspiring', 'author', 'award', 'away', 'awesome', 'baby', 'bad', 'band', 'based', 'beautiful', 'beauty', 'beer', 'believe', 'best', 'better', 'big', 'bio', 'bit', 'bitch', 'black', 'blog', 'blogger', 'blue', 'book', 'booking', 'born', 'bot', 'boy', 'brand', 'breaking', 'building', 'business', 'ca', 'car', 'care', 'cat', 'cause', 'ceo', 'certified', 'change', 'channel', 'check', 'chicago', 'chief', 'child', 'christ', 'christian', 'city', 'class', 'club', 'coach', 'coffee', 'college', 'com', 'come', 'comic', 'coming', 'communication', 'community', 'company', 'computer', 'conservative', 'consultant', 'contact', 'content', 'continuous', 'control', 'cool', 'country', 'county', 'crazy', 'create', 'creative', 'creator', 'culture', 'currently', 'dad', 'daily', 'dance', 'data', 'day', 'deal', 'dedicated', 'design', 'designer', 'developer', 'development', 'die', 'digital', 'direction', 'director', 'dj', 'dm', 'dog', 'dont', 'dream', 'dreamer', 'eat', 'editor', 'education', 'el', 'email', 'en', 'end', 'endorsement', 'engineer', 'english', 'enjoy', 'entertainment', 'enthusiast', 'entrepreneur', 'estate', 'event', 'everyday', 'experience', 'expert', 'eye', 'facebook', 'family', 'fan', 'fanatic', 'fantasy', 'fashion', 'father', 'favorite', 'fc', 'feed', 'feel', 'feminist', 'film', 'finding', 'fitness', 'follow', 'followed', 'follower', 'food', 'football', 'forever', 'founder', 'free', 'freelance', 'friend', 'fuck', 'fun', 'future', 'game', 'gamer', 'gaming', 'gay', 'geek', 'general', 'girl', 'global', 'gmail', 'god', 'going', 'gon', 'good', 'google', 'got', 'graduate', 'graphic', 'great', 'group', 'guy', 'hair', 'hand', 'happiness', 'happy', 'hard', 'harry', 'hate', 'head', 'health', 'heart', 'hello', 'help', 'helping', 'hey', 'hi', 'high', 'hip', 'history', 'hockey', 'home', 'hop', 'hope', 'host', 'house', 'http', 'huge', 'human', 'husband', 'idea', 'ig', 'im', 'improve', 'independent', 'industry', 'info', 'information', 'inquiry', 'inspirational', 'insta', 'instagram', 'interested', 'international', 'internet', 'jesus', 'job', 'join', 'journalist', 'junkie', 'justin', 'kid', 'kind', 'king', 'know', 'la', 'lady', 'latest', 'laugh', 'law', 'le', 'leader', 'leading', 'league', 'learn', 'learning', 'left', 'let', 'life', 'lifestyle', 'light', 'like', 'link', 'little', 'live', 'living', 'local', 'london', 'long', 'look', 'looking', 'lost', 'lot', 'louis', 'love', 'lover', 'loving', 'magazine', 'major', 'make', 'maker', 'making', 'man', 'management', 'manager', 'map', 'marketing', 'married', 'master', 'matter', 'mean', 'medium', 'meet', 'member', 'mi', 'mind', 'mobile', 'model', 'mom', 'money', 'mother', 'movie', 'mum', 'music', 'musician', 'na', 'nation', 'national', 'nature', 'need', 'nerd', 'network', 'new', 'news', 'night', 'non', 'north', 'nsfw', 'obsessed', 'offer', 'official', 'oh', 'old', 'online', 'open', 'opinion', 'owner', 'page', 'partner', 'party', 'passion', 'passionate', 'peace', 'people', 'perfect', 'person', 'personal', 'photo', 'photographer', 'photography', 'pic', 'picture', 'place', 'play', 'player', 'playing', 'pm', 'podcast', 'politics', 'pop', 'positive', 'post', 'power', 'pr', 'price', 'pro', 'probably', 'producer', 'product', 'prof', 'professional', 'program', 'project', 'promoting', 'proud', 'provide', 'providing', 'public', 'quality', 'que', 'queen', 'question', 'radio', 'random', 'read', 'reader', 'reading', 'real', 'really', 'red', 'reporter', 'research', 'resource', 'retired', 'retweets', 'review', 'right', 'rip', 'rock', 'rp', 'rt', 'run', 'sale', 'say', 'sc', 'school', 'science', 'seattle', 'secret', 'self', 'senior', 'series', 'service', 'share', 'shit', 'shop', 'short', 'simple', 'singer', 'single', 'site', 'small', 'smile', 'snapchat', 'social', 'software', 'solution', 'son', 'song', 'songwriter', 'soul', 'source', 'south', 'space', 'speaker', 'special', 'specialist', 'sport', 'st', 'star', 'start', 'state', 'station', 'stay', 'stop', 'story', 'street', 'strong', 'student', 'stuff', 'style', 'subscribe', 'success', 'support', 'supporter', 'talk', 'tea', 'teacher', 'team', 'tech', 'technology', 'tell', 'th', 'thing', 'think', 'thought', 'time', 'tip', 'today', 'training', 'travel', 'true', 'truth', 'try', 'trying', 'tv', 'tweet', 'tweeting', 'tweetmyjobs', 'twitter', 'uk', 'united', 'university', 'update', 'use', 'video', 'view', 'visit', 'voice', 'wan', 'want', 'war', 'watch', 'way', 'weather', 'web', 'website', 'welcome', 'west', 'white', 'wife', 'wine', 'winner', 'winning', 'woman', 'word', 'work', 'working', 'world', 'write', 'writer', 'writing', 'year', 'yo', 'york', 'young', 'youtube', 'youtuber']\n"
     ]
    }
   ],
   "source": [
    "print(\"en sık kullanilan {} kelimeler {}\".format(max_features,count_vectorizer.get_feature_names()))"
   ]
  },
  {
   "cell_type": "markdown",
   "id": "d8a61d16",
   "metadata": {},
   "source": [
    "- x'imiz sparce_matrix olacak."
   ]
  },
  {
   "cell_type": "code",
   "execution_count": 37,
   "id": "448ee225",
   "metadata": {},
   "outputs": [],
   "source": [
    "y = data.iloc[:,0].values #male or female\n",
    "x = sparce_matrix"
   ]
  },
  {
   "cell_type": "code",
   "execution_count": 38,
   "id": "efe8f173",
   "metadata": {},
   "outputs": [],
   "source": [
    "#train test split\n",
    "from sklearn.model_selection import train_test_split"
   ]
  },
  {
   "cell_type": "code",
   "execution_count": 39,
   "id": "6b797b68",
   "metadata": {},
   "outputs": [],
   "source": [
    "x_train, x_test, y_train, y_test = train_test_split(x,y,test_size=0.1,random_state=42)"
   ]
  },
  {
   "cell_type": "code",
   "execution_count": 40,
   "id": "d41621c7",
   "metadata": {},
   "outputs": [],
   "source": [
    "#naive bayes"
   ]
  },
  {
   "cell_type": "code",
   "execution_count": 44,
   "id": "3288ed14",
   "metadata": {},
   "outputs": [
    {
     "data": {
      "text/plain": [
       "GaussianNB()"
      ]
     },
     "execution_count": 44,
     "metadata": {},
     "output_type": "execute_result"
    }
   ],
   "source": [
    "from sklearn.naive_bayes import GaussianNB\n",
    "nb = GaussianNB()\n",
    "nb.fit(x_train,y_train)"
   ]
  },
  {
   "cell_type": "code",
   "execution_count": 45,
   "id": "423ed380",
   "metadata": {},
   "outputs": [],
   "source": [
    "#prediction\n",
    "y_pred = nb.predict(x_test)"
   ]
  },
  {
   "cell_type": "code",
   "execution_count": 46,
   "id": "7c3b174e",
   "metadata": {},
   "outputs": [
    {
     "name": "stdout",
     "output_type": "stream",
     "text": [
      "Accuracy: 1.0\n"
     ]
    }
   ],
   "source": [
    "#accuracy\n",
    "from sklearn.metrics import accuracy_score\n",
    "accuracy = accuracy_score(y_test, y_pred)\n",
    "print(\"Accuracy: {}\".format(accuracy))"
   ]
  }
 ],
 "metadata": {
  "kernelspec": {
   "display_name": "Python 3 (ipykernel)",
   "language": "python",
   "name": "python3"
  },
  "language_info": {
   "codemirror_mode": {
    "name": "ipython",
    "version": 3
   },
   "file_extension": ".py",
   "mimetype": "text/x-python",
   "name": "python",
   "nbconvert_exporter": "python",
   "pygments_lexer": "ipython3",
   "version": "3.9.7"
  }
 },
 "nbformat": 4,
 "nbformat_minor": 5
}
