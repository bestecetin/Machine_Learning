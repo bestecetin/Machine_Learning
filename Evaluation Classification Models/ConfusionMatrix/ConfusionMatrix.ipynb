{
 "cells": [
  {
   "cell_type": "markdown",
   "id": "987a284d",
   "metadata": {},
   "source": [
    "# Confusion Matrix"
   ]
  },
  {
   "cell_type": "markdown",
   "id": "6d9a7610",
   "metadata": {},
   "source": [
    "- Accuracy: Test datalarını sınıflandırıp,tahmin edip yüzde kacini dogru tahmin ettigimi yazdiriyorum."
   ]
  },
  {
   "cell_type": "markdown",
   "id": "e23ca1ad",
   "metadata": {},
   "source": [
    "- Bir datada kedi ve köpek olarak iki sinif olsun accuracy ise %80 olsun.\n",
    "- Burada ben kopeklerin ne kadarini kedi veya kedilerin ne kadarinin kopek olarak bildigini ogrenemem bunun icin confusion matrix kullaniyoruz."
   ]
  },
  {
   "cell_type": "code",
   "execution_count": 1,
   "id": "b96037cb",
   "metadata": {},
   "outputs": [
    {
     "data": {
      "image/png": "[encoded data removed]",
      "text/plain": [
       "<IPython.core.display.Image object>"
      ]
     },
     "execution_count": 1,
     "metadata": {},
     "output_type": "execute_result"
    }
   ],
   "source": [
    "from IPython.display import Image\n",
    "Image(filename='foto/cm.png') "
   ]
  },
  {
   "cell_type": "markdown",
   "id": "ba6e2980",
   "metadata": {},
   "source": [
    "- Doğruya doğru demek (True Positive – TP) DOĞRU\n",
    "- Yanlışa yanlış demek (True Negative – TN) DOĞRU\n",
    "- Doğruya yanlış demek (False Positive – FP) YANLIŞ\n",
    "- Yanlışa doğru demek(False Negative – FN) YANLIŞ"
   ]
  },
  {
   "cell_type": "markdown",
   "id": "e6822c4b",
   "metadata": {},
   "source": [
    "- Özellikle unbalance datalar icin cok önemlidir. \n",
    "- Örneğin: 1000000 verimiz olsun. Bunun 990000 tanesi kedi ve 10000 tanesi ise kopek olsun. Ve modelimiz hepsini kedi olarak tahmin etsin. Accuracy: 990000 / 10000 = 0.99 cikar. Yani accuracy cok iyi bir tahmin yaptigimi soyluyor fakat ben hicbir kopegi dogru tahmin edemedim bu gibi durumlar icin confusion matrix kullanmak bu gibi sorunlari gormemize yardimci olur."
   ]
  },
  {
   "cell_type": "code",
   "execution_count": 2,
   "id": "bfe0f756",
   "metadata": {},
   "outputs": [
    {
     "name": "stdout",
     "output_type": "stream",
     "text": [
      "decision tree score:  0.9069767441860465\n",
      "random forest algo result:  0.9534883720930233\n"
     ]
    }
   ],
   "source": [
    "import pandas as pd\n",
    "import numpy as np\n",
    "#%%  import data\n",
    "\n",
    "data = pd.read_csv(\"data/data.csv\")\n",
    "data.drop([\"id\",\"Unnamed: 32\"],axis=1,inplace = True)\n",
    "\n",
    "# %%\n",
    "data.diagnosis = [ 1 if each == \"M\" else 0 for each in data.diagnosis]\n",
    "y = data.diagnosis.values\n",
    "x_data = data.drop([\"diagnosis\"],axis=1)\n",
    "#%% normalization\n",
    "\n",
    "x = (x_data - np.min(x_data))/(np.max(x_data)-np.min(x_data))\n",
    "\n",
    "# %% train test split\n",
    "from sklearn.model_selection import train_test_split\n",
    "x_train, x_test,y_train, y_test = train_test_split(x,y,test_size = 0.15,random_state = 42)\n",
    "\n",
    "#%% decision tree\n",
    "from sklearn.tree import DecisionTreeClassifier\n",
    "dt = DecisionTreeClassifier()\n",
    "dt.fit(x_train,y_train)\n",
    "\n",
    "print(\"decision tree score: \", dt.score(x_test,y_test))\n",
    "\n",
    "#%%  random forest\n",
    "from sklearn.ensemble import RandomForestClassifier\n",
    "\n",
    "rf = RandomForestClassifier(n_estimators = 100,random_state = 1)\n",
    "rf.fit(x_train,y_train)\n",
    "print(\"random forest algo result: \",rf.score(x_test,y_test))"
   ]
  },
  {
   "cell_type": "code",
   "execution_count": 4,
   "id": "1c9a4198",
   "metadata": {},
   "outputs": [],
   "source": [
    "y_pred=rf.predict(x_test)\n",
    "y_true=y_test"
   ]
  },
  {
   "cell_type": "code",
   "execution_count": 6,
   "id": "721aa756",
   "metadata": {},
   "outputs": [],
   "source": [
    "#confusion matrix\n",
    "from sklearn.metrics import confusion_matrix\n",
    "cm= confusion_matrix(y_true,y_pred)"
   ]
  },
  {
   "cell_type": "code",
   "execution_count": 7,
   "id": "501660b7",
   "metadata": {},
   "outputs": [],
   "source": [
    "import seaborn as sns\n",
    "import matplotlib.pyplot as plt"
   ]
  },
  {
   "cell_type": "code",
   "execution_count": 10,
   "id": "634212d1",
   "metadata": {},
   "outputs": [
    {
     "data": {
      "image/png": "[encoded data removed]",
      "text/plain": [
       "<Figure size 360x216 with 2 Axes>"
      ]
     },
     "metadata": {
      "needs_background": "light"
     },
     "output_type": "display_data"
    }
   ],
   "source": [
    "f,ax=plt.subplots(figsize=(5,3))\n",
    "sns.heatmap(cm,annot=True, linewidths=0.5,linecolor=\"red\", fmt=\".0f\",ax=ax)\n",
    "plt.xlabel(\"y_pred\")\n",
    "plt.ylabel(\"y_true\")\n",
    "plt.show()"
   ]
  },
  {
   "cell_type": "code",
   "execution_count": null,
   "id": "1c7aef4c",
   "metadata": {},
   "outputs": [],
   "source": []
  }
 ],
 "metadata": {
  "kernelspec": {
   "display_name": "Python 3 (ipykernel)",
   "language": "python",
   "name": "python3"
  },
  "language_info": {
   "codemirror_mode": {
    "name": "ipython",
    "version": 3
   },
   "file_extension": ".py",
   "mimetype": "text/x-python",
   "name": "python",
   "nbconvert_exporter": "python",
   "pygments_lexer": "ipython3",
   "version": "3.9.7"
  }
 },
 "nbformat": 4,
 "nbformat_minor": 5
}
