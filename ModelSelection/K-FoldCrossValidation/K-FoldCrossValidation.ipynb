{
 "cells": [
  {
   "cell_type": "markdown",
   "id": "dcc6c58d",
   "metadata": {},
   "source": [
    "# Model Selection"
   ]
  },
  {
   "cell_type": "markdown",
   "id": "7a454c4b",
   "metadata": {},
   "source": [
    "- Model bizim ML algoritmalarimiza deniyor, mesela KNN.\n",
    "- Model selection ise en iyi parametreleri seçmek anlamina gelir.\n",
    "- parametreler:\n",
    "- 1) Ogrenilen parametreler: biz secemiyoruz model kendi ogreniyor.\n",
    "- 2) Secilen parametreler: bunlara hyperparameter denir. Bunlari biz seceriz örnegin KNN algoritmasindaki K degeri.\n",
    "- ML alogritmasini nasil degerlendirecegimizi belirlemeliyiz. Accuracy mi? Confusion matrix mi? gibi.\n",
    "- Sectigimiz modeller sonrasi ortaya cikan accuracy gibi degerlerin tutarli olmasi gerekir. Mesela bir model ve test datamiz var accuracy %89 cikti, ayni modeli baska bir test datasiyla denedik sonuc %60 cikti. Bu problrmi bir test datasiyla denedik sonuc %60 cikti. Bu problemi cozebilmemiz icin K-fold cross validation diye bir yontem kullanabiliriz."
   ]
  },
  {
   "cell_type": "markdown",
   "id": "7a3d669e",
   "metadata": {},
   "source": [
    "# K-Fold Cross Validation"
   ]
  },
  {
   "cell_type": "markdown",
   "id": "a926ebab",
   "metadata": {},
   "source": [
    "- avoid overfitting: k-fold cross validation overfitting onleme yontemlerindendir.\n",
    "- k=3 icin\n",
    "- once datamizi train ve test olarak ayiriyoruz.\n",
    "- TRAIN | TEST\n",
    "- daha sonra test kismini unutuyoruz. Train kismini k degeri kadar boluyoruz.\n",
    "- TRAIN | TRAIN | VALIDATION\n",
    "- TRAIN | VALIDATION | TRAIN\n",
    "- VALIDATION | TRAIN | TRAIN\n",
    "- Datamizi trainlerle train edip validation ile dogrulama yapiyoruz.\n",
    "- K degeri kadar accuracy elde edip ortalama accuracy'i hesapliyoruz.\n",
    "- Daha sonra test datasiyla test ediyoruz."
   ]
  },
  {
   "cell_type": "code",
   "execution_count": 2,
   "id": "8d0723f9",
   "metadata": {},
   "outputs": [],
   "source": [
    "from sklearn.datasets import load_iris\n",
    "import pandas as pd\n",
    "import numpy as np "
   ]
  },
  {
   "cell_type": "code",
   "execution_count": 3,
   "id": "b0d11888",
   "metadata": {},
   "outputs": [],
   "source": [
    "iris = load_iris()"
   ]
  },
  {
   "cell_type": "code",
   "execution_count": 50,
   "id": "ce4aee12",
   "metadata": {},
   "outputs": [],
   "source": [
    "x= iris.data\n",
    "y = iris.target "
   ]
  },
  {
   "cell_type": "code",
   "execution_count": 51,
   "id": "184b4455",
   "metadata": {},
   "outputs": [],
   "source": [
    "#knn algoritmasi kullanacagimiz icin normalizasyon yapiyoruz.\n",
    "x = (x-np.min(x))/(np.max(x)-np.min(x))"
   ]
  },
  {
   "cell_type": "code",
   "execution_count": 52,
   "id": "96f5778d",
   "metadata": {},
   "outputs": [],
   "source": [
    "#train test split \n",
    "from sklearn.model_selection import train_test_split\n",
    "x_train, x_test, y_train, y_test = train_test_split(x,y,test_size = 0.3)"
   ]
  },
  {
   "cell_type": "code",
   "execution_count": 53,
   "id": "c94f94e3",
   "metadata": {},
   "outputs": [],
   "source": [
    "from sklearn.neighbors import KNeighborsClassifier\n",
    "knn = KNeighborsClassifier(n_neighbors=3) #k degeri"
   ]
  },
  {
   "cell_type": "code",
   "execution_count": 54,
   "id": "857a63b7",
   "metadata": {},
   "outputs": [],
   "source": [
    "# K - Fold Cross Validation\n",
    "from sklearn.model_selection import cross_val_score\n",
    "accuracies = cross_val_score(estimator = knn , X= x_train, y=y_train, cv=10)"
   ]
  },
  {
   "cell_type": "markdown",
   "id": "b19f3010",
   "metadata": {},
   "source": [
    "- estimators = knn demek cross validation yaparken knn algoritmasini kullan demek.\n",
    "- K fold degeri icin 10 olmasini istiyorum ve bunun icin cv = 10 yaziyorum. Bu ne demek: train datasini 10'a boldum her seferinde 9 tanesi train bir tanesini ise validation olarak kullaniyorum ve bunu 10 kez yapıyorum ve her seferinde bir tane accuracy degeri elde ediyorum.\n",
    "- Accuracy degerlerine bakalim : "
   ]
  },
  {
   "cell_type": "code",
   "execution_count": 15,
   "id": "218626b7",
   "metadata": {},
   "outputs": [
    {
     "name": "stdout",
     "output_type": "stream",
     "text": [
      "[1.         0.90909091 1.         1.         1.         0.9\n",
      " 1.         0.8        1.         0.9       ]\n"
     ]
    }
   ],
   "source": [
    "print(accuracies)"
   ]
  },
  {
   "cell_type": "markdown",
   "id": "b89a1b3d",
   "metadata": {},
   "source": [
    "- Simdi ortalamsina bakmaliyiz: "
   ]
  },
  {
   "cell_type": "code",
   "execution_count": 17,
   "id": "88c51b27",
   "metadata": {},
   "outputs": [
    {
     "name": "stdout",
     "output_type": "stream",
     "text": [
      "avarege accuray:  0.9509090909090909\n"
     ]
    }
   ],
   "source": [
    "print(\"avarege accuray: \",np.mean(accuracies))"
   ]
  },
  {
   "cell_type": "code",
   "execution_count": 19,
   "id": "d794fcd9",
   "metadata": {},
   "outputs": [
    {
     "name": "stdout",
     "output_type": "stream",
     "text": [
      "avarege accuray:  0.0664569704818075\n"
     ]
    }
   ],
   "source": [
    "print(\"avarege accuray: \",np.std(accuracies)) #datanin tutarli olmasi"
   ]
  },
  {
   "cell_type": "code",
   "execution_count": 20,
   "id": "4b6e769b",
   "metadata": {},
   "outputs": [
    {
     "name": "stdout",
     "output_type": "stream",
     "text": [
      "test accuracy:  0.9555555555555556\n"
     ]
    }
   ],
   "source": [
    "knn.fit(x_train,y_train)\n",
    "print(\"test accuracy: \",knn.score(x_test,y_test))"
   ]
  },
  {
   "cell_type": "markdown",
   "id": "015317ae",
   "metadata": {},
   "source": [
    "#  Grid Search Cross Validation "
   ]
  },
  {
   "cell_type": "markdown",
   "id": "11282766",
   "metadata": {},
   "source": [
    "- Belirlenen k degerleri verilen cv degeri kadar validation yapilarak best accuracy'e sahip k degeri bulunur(knn icin k degeri)."
   ]
  },
  {
   "cell_type": "code",
   "execution_count": 71,
   "id": "5e7bbce4",
   "metadata": {},
   "outputs": [],
   "source": [
    "from sklearn.model_selection import GridSearchCV"
   ]
  },
  {
   "cell_type": "code",
   "execution_count": 72,
   "id": "4dae6e56",
   "metadata": {},
   "outputs": [
    {
     "data": {
      "text/plain": [
       "GridSearchCV(cv=10, estimator=KNeighborsClassifier(),\n",
       "             param_grid={'n_neighbors': array([ 1,  2,  3,  4,  5,  6,  7,  8,  9, 10, 11, 12, 13, 14, 15, 16, 17,\n",
       "       18, 19, 20, 21, 22, 23, 24, 25, 26, 27, 28, 29, 30, 31, 32, 33, 34,\n",
       "       35, 36, 37, 38, 39, 40, 41, 42, 43, 44, 45, 46, 47, 48, 49])})"
      ]
     },
     "execution_count": 72,
     "metadata": {},
     "output_type": "execute_result"
    }
   ],
   "source": [
    "grid = {\"n_neighbors\":np.arange(1,50)} #knn'deki k 1'den 50'ye kadar denenecek\n",
    "knn = KNeighborsClassifier()\n",
    "knn_cv = GridSearchCV(estimator=knn,param_grid=grid,cv= 10) #GridSearchCV cross val'deki validation 10 kez olacak.\n",
    "knn_cv.fit(x_train,y_train)"
   ]
  },
  {
   "cell_type": "code",
   "execution_count": 73,
   "id": "0cc5715b",
   "metadata": {},
   "outputs": [
    {
     "name": "stdout",
     "output_type": "stream",
     "text": [
      "tuned hyperparameter k:  {'n_neighbors': 7}\n",
      "tuned parametreye gore en iyi accuracy(best score): 0.99\n"
     ]
    }
   ],
   "source": [
    "print(\"tuned hyperparameter k: \", knn_cv.best_params_)\n",
    "print(\"tuned parametreye gore en iyi accuracy(best score):\", knn_cv.best_score_)"
   ]
  },
  {
   "cell_type": "markdown",
   "id": "d99be889",
   "metadata": {},
   "source": [
    "- yani en iyi accuracy knn algoritmasında k degeri 13 oldugunda %98 olacakmis\n"
   ]
  },
  {
   "cell_type": "markdown",
   "id": "9726756a",
   "metadata": {},
   "source": [
    "# Grid Search CV with Logistic Regression"
   ]
  },
  {
   "cell_type": "code",
   "execution_count": 57,
   "id": "a8ed83ce",
   "metadata": {},
   "outputs": [],
   "source": [
    "x = x[:100,:] #ilk 100 degeri x'e esitle\n",
    "y =y[:100] # ilk 100 degeri al"
   ]
  },
  {
   "cell_type": "code",
   "execution_count": 59,
   "id": "4bcb2cbd",
   "metadata": {},
   "outputs": [],
   "source": [
    "from  sklearn.linear_model import LogisticRegression"
   ]
  },
  {
   "cell_type": "code",
   "execution_count": 60,
   "id": "58e474fb",
   "metadata": {},
   "outputs": [],
   "source": [
    "grid = {\"C\":np.logspace(-3,3,7),\"penalty\":[\"l1\",\"l2\"]} "
   ]
  },
  {
   "cell_type": "markdown",
   "id": "93a5dc75",
   "metadata": {},
   "source": [
    "- c buyukse overfit olur, c kucukse underfit olur.\n",
    "- l1 ve l2 regularization icin kullanilan loss functionlaridir."
   ]
  },
  {
   "cell_type": "code",
   "execution_count": 67,
   "id": "d43c2aab",
   "metadata": {},
   "outputs": [
    {
     "data": {
      "text/plain": [
       "GridSearchCV(cv=10, estimator=LogisticRegression(),\n",
       "             param_grid={'C': array([1.e-03, 1.e-02, 1.e-01, 1.e+00, 1.e+01, 1.e+02, 1.e+03])})"
      ]
     },
     "execution_count": 67,
     "metadata": {},
     "output_type": "execute_result"
    }
   ],
   "source": [
    "logreg = LogisticRegression()\n",
    "logreg_cv = GridSearchCV(logreg,grid,cv=10)\n",
    "logreg_cv.fit(x_train,y_train)"
   ]
  },
  {
   "cell_type": "code",
   "execution_count": 68,
   "id": "176b6044",
   "metadata": {},
   "outputs": [
    {
     "name": "stdout",
     "output_type": "stream",
     "text": [
      "tuned hyperparameter :  {'C': 100.0}\n"
     ]
    }
   ],
   "source": [
    "print(\"tuned hyperparameter : \", logreg_cv.best_params_)"
   ]
  },
  {
   "cell_type": "code",
   "execution_count": 70,
   "id": "17bc0211",
   "metadata": {},
   "outputs": [
    {
     "name": "stdout",
     "output_type": "stream",
     "text": [
      "tuned parametreye gore en iyi accuracy(best score): 0.9800000000000001\n"
     ]
    }
   ],
   "source": [
    "print(\"tuned parametreye gore en iyi accuracy(best score):\", logreg_cv.best_score_)"
   ]
  }
 ],
 "metadata": {
  "kernelspec": {
   "display_name": "Python 3 (ipykernel)",
   "language": "python",
   "name": "python3"
  },
  "language_info": {
   "codemirror_mode": {
    "name": "ipython",
    "version": 3
   },
   "file_extension": ".py",
   "mimetype": "text/x-python",
   "name": "python",
   "nbconvert_exporter": "python",
   "pygments_lexer": "ipython3",
   "version": "3.9.7"
  }
 },
 "nbformat": 4,
 "nbformat_minor": 5
}
