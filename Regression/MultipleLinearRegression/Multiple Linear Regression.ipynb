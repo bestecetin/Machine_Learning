{
 "cells": [
  {
   "cell_type": "markdown",
   "id": "ce6f654c",
   "metadata": {},
   "source": [
    "# Multiple Linear Regression <br>\n",
    "- Bir tane bağımlı değişken ile bununla ilişkisi olan bir dizi bağımsız değişken arasındaki ilişkiyi ortaya koymak için yapılan analizdir."
   ]
  },
  {
   "cell_type": "code",
   "execution_count": 24,
   "id": "2a024352",
   "metadata": {},
   "outputs": [],
   "source": [
    "import pandas as pd\n",
    "import numpy as np\n",
    "import matplotlib.pyplot as plt\n",
    "from sklearn.linear_model import LinearRegression"
   ]
  },
  {
   "cell_type": "markdown",
   "id": "fbaabf30",
   "metadata": {},
   "source": [
    "simple linear regression = <strong>y = b0 + b1 * x</strong> <br>\n",
    "yani,                maas = b0 + b1 * deneyim <br>\n",
    "multiple LR = <strong>y = b0 + b1 * x1 + b2 * x2</strong> <br>\n",
    "yani, maas = b0 + b1 * deneyim + b2 * yas "
   ]
  },
  {
   "cell_type": "markdown",
   "id": "857af898",
   "metadata": {},
   "source": [
    "maas = <strong> dependent variable</strong> (bağımlı) yani benim maaşım deneyim ve yaşa bağlı <br>\n",
    "deneyim , yas= <strong> independet variable </strong> (bağımsız değişken) <br>\n",
    "amaç = MİN(MSE) yani öyle bir b0 b1 b2 değeri seçeceğim ki MSE düşük olacak."
   ]
  },
  {
   "cell_type": "code",
   "execution_count": 9,
   "id": "22885544",
   "metadata": {},
   "outputs": [],
   "source": [
    "df=pd.read_csv(\"/Users/bestecetin/Desktop/machine_learning/courses/machinelearning/Regression/MultipleLinearRegression/data/multiple_linear_regression_dataset.csv\",sep=\";\")"
   ]
  },
  {
   "cell_type": "code",
   "execution_count": 38,
   "id": "9a4faab0",
   "metadata": {},
   "outputs": [],
   "source": [
    "x = df.iloc[:,[0,2]].values #deneyim , yas sutununu aldık\n",
    "y = df.maas.values.reshape(-1,1) #maas"
   ]
  },
  {
   "cell_type": "code",
   "execution_count": 39,
   "id": "16c08561",
   "metadata": {},
   "outputs": [
    {
     "data": {
      "text/plain": [
       "array([[ 0.5, 22. ],\n",
       "       [ 0. , 21. ],\n",
       "       [ 1. , 23. ],\n",
       "       [ 5. , 25. ],\n",
       "       [ 8. , 28. ],\n",
       "       [ 4. , 23. ],\n",
       "       [15. , 35. ],\n",
       "       [ 7. , 29. ],\n",
       "       [ 3. , 22. ],\n",
       "       [ 2. , 23. ],\n",
       "       [12. , 32. ],\n",
       "       [10. , 30. ],\n",
       "       [14. , 34. ],\n",
       "       [ 6. , 27. ]])"
      ]
     },
     "execution_count": 39,
     "metadata": {},
     "output_type": "execute_result"
    }
   ],
   "source": [
    "x"
   ]
  },
  {
   "cell_type": "code",
   "execution_count": 29,
   "id": "ea71d1a5",
   "metadata": {},
   "outputs": [
    {
     "data": {
      "text/plain": [
       "LinearRegression()"
      ]
     },
     "execution_count": 29,
     "metadata": {},
     "output_type": "execute_result"
    }
   ],
   "source": [
    "multiple_linear_regression = LinearRegression() \n",
    "multiple_linear_regression.fit(x,y)"
   ]
  },
  {
   "cell_type": "code",
   "execution_count": 30,
   "id": "98a78888",
   "metadata": {},
   "outputs": [
    {
     "name": "stdout",
     "output_type": "stream",
     "text": [
      "b0:  [10376.62747228]\n"
     ]
    }
   ],
   "source": [
    "print(\"b0: \", multiple_linear_regression.intercept_)"
   ]
  },
  {
   "cell_type": "code",
   "execution_count": 31,
   "id": "422790b3",
   "metadata": {},
   "outputs": [
    {
     "name": "stdout",
     "output_type": "stream",
     "text": [
      "b1,b2:  [[1525.50072054 -416.72218625]]\n"
     ]
    }
   ],
   "source": [
    "print(\"b1,b2: \", multiple_linear_regression.coef_)"
   ]
  },
  {
   "cell_type": "code",
   "execution_count": 32,
   "id": "29d3836c",
   "metadata": {},
   "outputs": [
    {
     "data": {
      "text/plain": [
       "array([[11046.35815877],\n",
       "       [ 3418.85455609]])"
      ]
     },
     "execution_count": 32,
     "metadata": {},
     "output_type": "execute_result"
    }
   ],
   "source": [
    "multiple_linear_regression.predict(np.array([[10,35],[5,35]])) "
   ]
  },
  {
   "cell_type": "markdown",
   "id": "8e5f270a",
   "metadata": {},
   "source": [
    "- 10 yıllık deneyim ve 35 yas  maas olarak = 11046\n",
    "- 5 yıllık deneyim ve 35 yas maas olarak = 3418"
   ]
  }
 ],
 "metadata": {
  "kernelspec": {
   "display_name": "Python 3 (ipykernel)",
   "language": "python",
   "name": "python3"
  },
  "language_info": {
   "codemirror_mode": {
    "name": "ipython",
    "version": 3
   },
   "file_extension": ".py",
   "mimetype": "text/x-python",
   "name": "python",
   "nbconvert_exporter": "python",
   "pygments_lexer": "ipython3",
   "version": "3.9.7"
  }
 },
 "nbformat": 4,
 "nbformat_minor": 5
}
