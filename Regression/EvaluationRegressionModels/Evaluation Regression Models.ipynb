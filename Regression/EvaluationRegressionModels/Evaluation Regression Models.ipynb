{
 "cells": [
  {
   "cell_type": "markdown",
   "id": "7ac2811e",
   "metadata": {},
   "source": [
    "- Tahminlerimin ne kadar doğru olduğuna sayısal olarak bakacağız.."
   ]
  },
  {
   "cell_type": "markdown",
   "id": "597600de",
   "metadata": {},
   "source": [
    "- residual= y - y_pred\n",
    "- square residual = (residual^2)\n",
    "- sum square residual = sum((y-y_pred)^2)"
   ]
  },
  {
   "cell_type": "markdown",
   "id": "82ca6c8b",
   "metadata": {},
   "source": [
    "- sum square total = sum((y - y_avg)^2)"
   ]
  },
  {
   "cell_type": "markdown",
   "id": "72465e15",
   "metadata": {},
   "source": [
    "- R^2(r_square) = 1 - (SSR / SST)\n",
    "- Eğer R^2 değeri 1'e ne kadar yakın ise o kadar iyi demektir."
   ]
  },
  {
   "cell_type": "markdown",
   "id": "80720ac0",
   "metadata": {},
   "source": [
    "<h2>R-Square With Random Forest Regression</h2>"
   ]
  },
  {
   "cell_type": "code",
   "execution_count": 1,
   "id": "10aa4e72",
   "metadata": {},
   "outputs": [],
   "source": [
    "import pandas as pd \n",
    "import matplotlib.pyplot as plt\n",
    "import numpy as np"
   ]
  },
  {
   "cell_type": "code",
   "execution_count": 2,
   "id": "aae6ab17",
   "metadata": {},
   "outputs": [],
   "source": [
    "df=pd.read_csv('/Users/bestecetin/Desktop/machine_learning/courses/machinelearning/Regression/EvaluationRegressionModels/data/random+forest+regression+dataset.csv',sep=\";\",header=None)"
   ]
  },
  {
   "cell_type": "code",
   "execution_count": 3,
   "id": "b71dc606",
   "metadata": {},
   "outputs": [],
   "source": [
    "x = df.iloc[:,0].values.reshape(-1,1) #numpya çevirdik ve ,1 koyduk\n",
    "y = df.iloc[:,1].values.reshape(-1,1)"
   ]
  },
  {
   "cell_type": "code",
   "execution_count": 4,
   "id": "e7f3e545",
   "metadata": {},
   "outputs": [],
   "source": [
    "from sklearn.ensemble import RandomForestRegressor\n",
    "rf = RandomForestRegressor(n_estimators = 100, random_state = 42 )"
   ]
  },
  {
   "cell_type": "code",
   "execution_count": 5,
   "id": "7ad85d80",
   "metadata": {},
   "outputs": [
    {
     "name": "stderr",
     "output_type": "stream",
     "text": [
      "/var/folders/pc/gs0lq1w52r16_wgx9vm4wxhm0000gn/T/ipykernel_17564/2439990766.py:1: DataConversionWarning: A column-vector y was passed when a 1d array was expected. Please change the shape of y to (n_samples,), for example using ravel().\n",
      "  rf.fit(x,y)\n"
     ]
    },
    {
     "data": {
      "text/plain": [
       "RandomForestRegressor(random_state=42)"
      ]
     },
     "execution_count": 5,
     "metadata": {},
     "output_type": "execute_result"
    }
   ],
   "source": [
    "rf.fit(x,y)"
   ]
  },
  {
   "cell_type": "code",
   "execution_count": 8,
   "id": "6f09f10a",
   "metadata": {},
   "outputs": [],
   "source": [
    "y_pred = rf.predict(x)"
   ]
  },
  {
   "cell_type": "code",
   "execution_count": 9,
   "id": "20ace900",
   "metadata": {},
   "outputs": [],
   "source": [
    "#şimdi predict ettiğimiz değerlerin doğruluğuna bakacağız"
   ]
  },
  {
   "cell_type": "code",
   "execution_count": 10,
   "id": "7aee598b",
   "metadata": {},
   "outputs": [
    {
     "name": "stdout",
     "output_type": "stream",
     "text": [
      "r_score 0.9798724794092587\n"
     ]
    }
   ],
   "source": [
    "from sklearn.metrics import r2_score\n",
    "print(\"r_score\",r2_score(y,y_pred))"
   ]
  },
  {
   "cell_type": "markdown",
   "id": "0badcd3d",
   "metadata": {},
   "source": [
    "- burada gerçek y değerimiz (y) ve predict ettiğimiz y değerinin (y_pred) doğruluğuna baktık."
   ]
  },
  {
   "cell_type": "markdown",
   "id": "ab1262d9",
   "metadata": {},
   "source": [
    "- sonuç 1'e yakın çıktı iyi bir tahmin oldugunu söyleyebiliriz."
   ]
  },
  {
   "cell_type": "code",
   "execution_count": 12,
   "id": "3d5e47ab",
   "metadata": {},
   "outputs": [
    {
     "data": {
      "text/plain": [
       "array([[100],\n",
       "       [ 80],\n",
       "       [ 70],\n",
       "       [ 60],\n",
       "       [ 50],\n",
       "       [ 40],\n",
       "       [ 30],\n",
       "       [ 20],\n",
       "       [ 10],\n",
       "       [  5]])"
      ]
     },
     "execution_count": 12,
     "metadata": {},
     "output_type": "execute_result"
    }
   ],
   "source": [
    "y #gerçek y"
   ]
  },
  {
   "cell_type": "code",
   "execution_count": 13,
   "id": "69cca557",
   "metadata": {},
   "outputs": [
    {
     "data": {
      "text/plain": [
       "array([89.1 , 83.3 , 72.1 , 61.9 , 52.1 , 42.8 , 30.8 , 22.7 , 12.65,\n",
       "        8.5 ])"
      ]
     },
     "execution_count": 13,
     "metadata": {},
     "output_type": "execute_result"
    }
   ],
   "source": [
    "y_pred #predict y "
   ]
  },
  {
   "cell_type": "markdown",
   "id": "f6fa59c2",
   "metadata": {},
   "source": [
    "<h2>R-Square With Linear Regression</h2>"
   ]
  },
  {
   "cell_type": "code",
   "execution_count": 16,
   "id": "e6d4f876",
   "metadata": {},
   "outputs": [],
   "source": [
    "df=pd.read_csv('/Users/bestecetin/Desktop/machine_learning/courses/machinelearning/Regression/EvaluationRegressionModels/data/linear_regression_dataset.csv',sep=\";\")"
   ]
  },
  {
   "cell_type": "code",
   "execution_count": 19,
   "id": "886edf26",
   "metadata": {},
   "outputs": [],
   "source": [
    "from sklearn.linear_model import LinearRegression\n",
    "linear_reg= LinearRegression() #modelimi bir variable'a eşitledik"
   ]
  },
  {
   "cell_type": "code",
   "execution_count": 20,
   "id": "2a0bd212",
   "metadata": {},
   "outputs": [],
   "source": [
    "x = df.deneyim.values.reshape(-1,1)\n",
    "y = df.maas.values.reshape(-1,1)"
   ]
  },
  {
   "cell_type": "code",
   "execution_count": 22,
   "id": "2666e5ca",
   "metadata": {},
   "outputs": [],
   "source": [
    "linear_reg.fit(x,y)\n",
    "y_pred = linear_reg.predict(x)"
   ]
  },
  {
   "cell_type": "code",
   "execution_count": 23,
   "id": "6f07c8ce",
   "metadata": {},
   "outputs": [
    {
     "name": "stdout",
     "output_type": "stream",
     "text": [
      "r_square score: 0.9775283164949902\n"
     ]
    }
   ],
   "source": [
    "from sklearn.metrics import r2_score\n",
    "print(\"r_square score:\",r2_score(y,y_pred))"
   ]
  },
  {
   "cell_type": "code",
   "execution_count": 24,
   "id": "83f1d561",
   "metadata": {},
   "outputs": [
    {
     "data": {
      "text/plain": [
       "array([[ 2500],\n",
       "       [ 2250],\n",
       "       [ 2750],\n",
       "       [ 8000],\n",
       "       [ 9000],\n",
       "       [ 6900],\n",
       "       [20000],\n",
       "       [ 8500],\n",
       "       [ 6000],\n",
       "       [ 3500],\n",
       "       [15000],\n",
       "       [13000],\n",
       "       [18000],\n",
       "       [ 7500]])"
      ]
     },
     "execution_count": 24,
     "metadata": {},
     "output_type": "execute_result"
    }
   ],
   "source": [
    "y"
   ]
  },
  {
   "cell_type": "code",
   "execution_count": 25,
   "id": "009eedd5",
   "metadata": {},
   "outputs": [
    {
     "data": {
      "text/plain": [
       "array([[ 2233.06929596],\n",
       "       [ 1663.89519747],\n",
       "       [ 2802.24339445],\n",
       "       [ 7355.63618235],\n",
       "       [10770.68077328],\n",
       "       [ 6217.28798538],\n",
       "       [18739.11815211],\n",
       "       [ 9632.3325763 ],\n",
       "       [ 5078.9397884 ],\n",
       "       [ 3940.59159143],\n",
       "       [15324.07356118],\n",
       "       [13047.37716723],\n",
       "       [17600.76995513],\n",
       "       [ 8493.98437933]])"
      ]
     },
     "execution_count": 25,
     "metadata": {},
     "output_type": "execute_result"
    }
   ],
   "source": [
    "y_pred"
   ]
  }
 ],
 "metadata": {
  "kernelspec": {
   "display_name": "Python 3 (ipykernel)",
   "language": "python",
   "name": "python3"
  },
  "language_info": {
   "codemirror_mode": {
    "name": "ipython",
    "version": 3
   },
   "file_extension": ".py",
   "mimetype": "text/x-python",
   "name": "python",
   "nbconvert_exporter": "python",
   "pygments_lexer": "ipython3",
   "version": "3.9.7"
  }
 },
 "nbformat": 4,
 "nbformat_minor": 5
}
