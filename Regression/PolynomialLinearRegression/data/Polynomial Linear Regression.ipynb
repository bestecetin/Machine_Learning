{
 "cells": [
  {
   "cell_type": "markdown",
   "id": "c6d41c5b",
   "metadata": {},
   "source": [
    "# Polynomial Linear Regression"
   ]
  },
  {
   "cell_type": "code",
   "execution_count": 1,
   "id": "30e3afbd",
   "metadata": {},
   "outputs": [],
   "source": [
    "import pandas as pd \n",
    "import matplotlib.pyplot as plt"
   ]
  },
  {
   "cell_type": "code",
   "execution_count": 2,
   "id": "9ed84e8e",
   "metadata": {},
   "outputs": [],
   "source": [
    "df = pd.read_csv(\"/Users/bestecetin/Desktop/machine_learning/courses/machinelearning/Regression/PolynomialLinearRegression/data/polynomial+regression.csv\",sep=\";\")"
   ]
  },
  {
   "cell_type": "code",
   "execution_count": 3,
   "id": "59876034",
   "metadata": {},
   "outputs": [],
   "source": [
    "y = df.araba_max_hiz.values.reshape(-1,1) #values series'i numpy arraye çeviriyordu reshape ise size'ın sağ tarafına\n",
    "# bir ekliyordu mesela (14,1) \n",
    "x = df.araba_fiyat.values.reshape(-1,1)"
   ]
  },
  {
   "cell_type": "markdown",
   "id": "97a11d44",
   "metadata": {},
   "source": [
    "şuan x ve y olarak iki arrayim var biri arabamın max hızı diğeri ise fiyatı"
   ]
  },
  {
   "cell_type": "code",
   "execution_count": 4,
   "id": "5c456919",
   "metadata": {},
   "outputs": [
    {
     "data": {
      "image/png": "[encoded data removed]",
      "text/plain": [
       "<Figure size 432x288 with 1 Axes>"
      ]
     },
     "metadata": {
      "needs_background": "light"
     },
     "output_type": "display_data"
    }
   ],
   "source": [
    "plt.scatter(x,y)\n",
    "plt.ylabel(\"Araba Max Hız\")\n",
    "plt.xlabel(\"Araba Fiyat\")\n",
    "plt.show()"
   ]
  },
  {
   "cell_type": "markdown",
   "id": "06502a28",
   "metadata": {},
   "source": [
    "- data linear bir şekilde artıp tekrardan sabit bir şekilde artıyor <br>\n",
    "- linear regression = y=b0+b1*x <br>\n",
    "- multiple lr = y= b0 + b1 * x1 + b2 * x2 idi <br>\n",
    "- şuanda benim bir dizi bağımsız değişkenim olmadığı için linear regression uygulayacağım.."
   ]
  },
  {
   "cell_type": "code",
   "execution_count": 5,
   "id": "bf0d88e9",
   "metadata": {},
   "outputs": [
    {
     "data": {
      "text/plain": [
       "LinearRegression()"
      ]
     },
     "execution_count": 5,
     "metadata": {},
     "output_type": "execute_result"
    }
   ],
   "source": [
    "from sklearn.linear_model import LinearRegression\n",
    "lr = LinearRegression()\n",
    "lr.fit(x,y) #sample'lara en uygun line'ı uyduruyoruz.\n",
    "#en uygunu ise MSE en az olacak şekilde yapıyor."
   ]
  },
  {
   "cell_type": "markdown",
   "id": "13404834",
   "metadata": {},
   "source": [
    "fit ettiğim line'ı görselleştirelim : "
   ]
  },
  {
   "cell_type": "code",
   "execution_count": 6,
   "id": "1a63b7e4",
   "metadata": {},
   "outputs": [],
   "source": [
    "y_pred = lr.predict(x)"
   ]
  },
  {
   "cell_type": "code",
   "execution_count": 7,
   "id": "eddde364",
   "metadata": {},
   "outputs": [
    {
     "data": {
      "image/png": "[encoded data removed]",
      "text/plain": [
       "<Figure size 432x288 with 1 Axes>"
      ]
     },
     "metadata": {
      "needs_background": "light"
     },
     "output_type": "display_data"
    }
   ],
   "source": [
    "plt.plot(x,y_pred, color=\"red\")\n",
    "plt.scatter(x,y)\n",
    "plt.show()"
   ]
  },
  {
   "cell_type": "code",
   "execution_count": 8,
   "id": "ca69ad74",
   "metadata": {},
   "outputs": [
    {
     "data": {
      "text/plain": [
       "array([[871.66401826]])"
      ]
     },
     "execution_count": 8,
     "metadata": {},
     "output_type": "execute_result"
    }
   ],
   "source": [
    "lr.predict([[10000]]) "
   ]
  },
  {
   "cell_type": "markdown",
   "id": "b3c7ee93",
   "metadata": {},
   "source": [
    "arabamın fiyatına göre bir uçağın hızı kadar hız gösterdi, çünkü\n",
    "bu veriseti linear regression modeline uygun değil."
   ]
  },
  {
   "cell_type": "markdown",
   "id": "6177241d",
   "metadata": {},
   "source": [
    "Polynomial Linear Regression = y = b0 + b1 * x + b2 * x^2 + b3 * x^3 ... bn * x^n"
   ]
  },
  {
   "cell_type": "markdown",
   "id": "935b2340",
   "metadata": {},
   "source": [
    "benim modelim linear regressiona uygun değilse yukarıdaki formüldeki gibi bir sayının karesini almak demek onu eğrileştirmek demektir. Biz bu formül sayesinde doğrumuzu eğrileştirebiliyoruz."
   ]
  },
  {
   "cell_type": "markdown",
   "id": "3367ab03",
   "metadata": {},
   "source": [
    "peki neden hala polynomial'de olsa linear diyoruz çünkü b0 ve b1'im linear x'in katsayıları sadece polynomial oldu."
   ]
  },
  {
   "cell_type": "code",
   "execution_count": 9,
   "id": "ecbba29a",
   "metadata": {},
   "outputs": [],
   "source": [
    "from sklearn.preprocessing import PolynomialFeatures"
   ]
  },
  {
   "cell_type": "code",
   "execution_count": 19,
   "id": "acba1883",
   "metadata": {},
   "outputs": [],
   "source": [
    "polynomial_regression = PolynomialFeatures(degree=4) "
   ]
  },
  {
   "cell_type": "markdown",
   "id": "1f6f34a9",
   "metadata": {},
   "source": [
    "- degree=2 formüldeki n degerinin 2 olması anlamına gelir yani, \n",
    "- y = b0 + b1 * x + b2 * x^2"
   ]
  },
  {
   "cell_type": "markdown",
   "id": "bdb94793",
   "metadata": {},
   "source": [
    "ama benim x'im veri setinde arabanın fiyatıydı ve araba fiyatının karesi olarak bir featureum yoktu bu yüzden : "
   ]
  },
  {
   "cell_type": "code",
   "execution_count": 21,
   "id": "5f465110",
   "metadata": {},
   "outputs": [],
   "source": [
    "x_polynomial = polynomial_regression.fit_transform(x)"
   ]
  },
  {
   "cell_type": "code",
   "execution_count": 22,
   "id": "1fdc68b9",
   "metadata": {},
   "outputs": [
    {
     "data": {
      "text/plain": [
       "array([[1.0000000e+00, 6.0000000e+01, 3.6000000e+03, 2.1600000e+05,\n",
       "        1.2960000e+07],\n",
       "       [1.0000000e+00, 7.0000000e+01, 4.9000000e+03, 3.4300000e+05,\n",
       "        2.4010000e+07],\n",
       "       [1.0000000e+00, 8.0000000e+01, 6.4000000e+03, 5.1200000e+05,\n",
       "        4.0960000e+07],\n",
       "       [1.0000000e+00, 1.0000000e+02, 1.0000000e+04, 1.0000000e+06,\n",
       "        1.0000000e+08],\n",
       "       [1.0000000e+00, 1.2000000e+02, 1.4400000e+04, 1.7280000e+06,\n",
       "        2.0736000e+08],\n",
       "       [1.0000000e+00, 1.5000000e+02, 2.2500000e+04, 3.3750000e+06,\n",
       "        5.0625000e+08],\n",
       "       [1.0000000e+00, 2.0000000e+02, 4.0000000e+04, 8.0000000e+06,\n",
       "        1.6000000e+09],\n",
       "       [1.0000000e+00, 2.5000000e+02, 6.2500000e+04, 1.5625000e+07,\n",
       "        3.9062500e+09],\n",
       "       [1.0000000e+00, 3.0000000e+02, 9.0000000e+04, 2.7000000e+07,\n",
       "        8.1000000e+09],\n",
       "       [1.0000000e+00, 4.0000000e+02, 1.6000000e+05, 6.4000000e+07,\n",
       "        2.5600000e+10],\n",
       "       [1.0000000e+00, 5.0000000e+02, 2.5000000e+05, 1.2500000e+08,\n",
       "        6.2500000e+10],\n",
       "       [1.0000000e+00, 7.5000000e+02, 5.6250000e+05, 4.2187500e+08,\n",
       "        3.1640625e+11],\n",
       "       [1.0000000e+00, 1.0000000e+03, 1.0000000e+06, 1.0000000e+09,\n",
       "        1.0000000e+12],\n",
       "       [1.0000000e+00, 2.0000000e+03, 4.0000000e+06, 8.0000000e+09,\n",
       "        1.6000000e+13],\n",
       "       [1.0000000e+00, 3.0000000e+03, 9.0000000e+06, 2.7000000e+10,\n",
       "        8.1000000e+13]])"
      ]
     },
     "execution_count": 22,
     "metadata": {},
     "output_type": "execute_result"
    }
   ],
   "source": [
    "x_polynomial"
   ]
  },
  {
   "cell_type": "markdown",
   "id": "a7621800",
   "metadata": {},
   "source": [
    "burada 1'ler x^0'ı(gorunmeyen) ikinci sutun x^1'i ucuncu sutun x^2'yi temsil ediyor"
   ]
  },
  {
   "cell_type": "code",
   "execution_count": 23,
   "id": "6bd40cfb",
   "metadata": {},
   "outputs": [
    {
     "data": {
      "text/plain": [
       "LinearRegression()"
      ]
     },
     "execution_count": 23,
     "metadata": {},
     "output_type": "execute_result"
    }
   ],
   "source": [
    "#fit\n",
    "linear_regression2 = LinearRegression()\n",
    "linear_regression2.fit(x_polynomial,y)"
   ]
  },
  {
   "cell_type": "code",
   "execution_count": 24,
   "id": "40966d38",
   "metadata": {},
   "outputs": [],
   "source": [
    "y_head2 = linear_regression2.predict(x_polynomial)"
   ]
  },
  {
   "cell_type": "code",
   "execution_count": 25,
   "id": "328a1377",
   "metadata": {},
   "outputs": [
    {
     "data": {
      "image/png": "[encoded data removed]",
      "text/plain": [
       "<Figure size 432x288 with 1 Axes>"
      ]
     },
     "metadata": {
      "needs_background": "light"
     },
     "output_type": "display_data"
    }
   ],
   "source": [
    "plt.plot(x,y_head2,color= \"green\", label=\"poly\")\n",
    "plt.scatter(x,y)\n",
    "plt.legend()\n",
    "plt.show()\n"
   ]
  },
  {
   "cell_type": "markdown",
   "id": "979cc582",
   "metadata": {},
   "source": [
    "degree=2 vermiştim 4 vererek , degree derecesini arttırarak daha iyi uyan bir model elde ettim. MSE'ü azaltmış oldum.  "
   ]
  }
 ],
 "metadata": {
  "kernelspec": {
   "display_name": "Python 3 (ipykernel)",
   "language": "python",
   "name": "python3"
  },
  "language_info": {
   "codemirror_mode": {
    "name": "ipython",
    "version": 3
   },
   "file_extension": ".py",
   "mimetype": "text/x-python",
   "name": "python",
   "nbconvert_exporter": "python",
   "pygments_lexer": "ipython3",
   "version": "3.9.7"
  }
 },
 "nbformat": 4,
 "nbformat_minor": 5
}
