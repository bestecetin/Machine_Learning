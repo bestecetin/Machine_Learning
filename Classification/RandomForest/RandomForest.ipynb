{
 "cells": [
  {
   "cell_type": "markdown",
   "id": "b4d21acd",
   "metadata": {},
   "source": [
    "- ensamble learning modelidir.\n",
    "- bir cok decision tree ile bir adet ML algoritması elde edebiliriz.\n",
    "- bir cok decision tree'den olustugu icin accuracy daha yüksektir.\n",
    "- oncelikle data train ve test olarak ayrilir daha sonra train'den n tane sample seçilir seçilen bu samplelar sub sample olarak adlandirilir.\n",
    "- subsample'lar decision treeler ile egitilir.\n",
    "- decision tree'lerden en cok oyu alan secilerek sonuc elde edilir."
   ]
  },
  {
   "cell_type": "code",
   "execution_count": 1,
   "id": "8440119f",
   "metadata": {},
   "outputs": [],
   "source": [
    "import numpy as np\n",
    "import pandas as pd"
   ]
  },
  {
   "cell_type": "code",
   "execution_count": 2,
   "id": "05a924fa",
   "metadata": {},
   "outputs": [],
   "source": [
    "data= pd.read_csv('data/data.csv')"
   ]
  },
  {
   "cell_type": "code",
   "execution_count": 3,
   "id": "796b94d5",
   "metadata": {},
   "outputs": [],
   "source": [
    "data.drop([\"id\",\"Unnamed: 32\"], axis=1, inplace= True) #datadaki gereksiz sutunlar silindi. "
   ]
  },
  {
   "cell_type": "code",
   "execution_count": 4,
   "id": "f94e0820",
   "metadata": {},
   "outputs": [],
   "source": [
    "data.diagnosis= [1 if each else 0 == \"M\" for each in data.diagnosis] \n",
    "#sklearn kutuphanesi stringlerle islem yapamadigi icin sayisal verilere cevirdik."
   ]
  },
  {
   "cell_type": "code",
   "execution_count": 5,
   "id": "f5689f0d",
   "metadata": {},
   "outputs": [],
   "source": [
    "y = data.diagnosis.values\n",
    "x_data = data.drop([\"diagnosis\"],axis=1)"
   ]
  },
  {
   "cell_type": "code",
   "execution_count": 6,
   "id": "9d00ebcb",
   "metadata": {},
   "outputs": [],
   "source": [
    "#normalization\n",
    "x = (x_data - np.min(x_data))/(np.max(x_data)-np.min(x_data))"
   ]
  },
  {
   "cell_type": "code",
   "execution_count": 7,
   "id": "23a04beb",
   "metadata": {},
   "outputs": [],
   "source": [
    "#train ve test split\n",
    "from sklearn.model_selection import train_test_split\n",
    "x_train, x_test,y_train, y_test = train_test_split(x,y,test_size = 0.15,random_state = 42)"
   ]
  },
  {
   "cell_type": "code",
   "execution_count": 8,
   "id": "b66c279f",
   "metadata": {},
   "outputs": [
    {
     "data": {
      "text/plain": [
       "DecisionTreeClassifier()"
      ]
     },
     "execution_count": 8,
     "metadata": {},
     "output_type": "execute_result"
    }
   ],
   "source": [
    "from sklearn.tree import DecisionTreeClassifier\n",
    "dt= DecisionTreeClassifier()\n",
    "dt.fit(x_train,y_train)"
   ]
  },
  {
   "cell_type": "code",
   "execution_count": 9,
   "id": "627617a0",
   "metadata": {},
   "outputs": [
    {
     "name": "stdout",
     "output_type": "stream",
     "text": [
      "score: 1.0\n"
     ]
    }
   ],
   "source": [
    "print(\"score:\",dt.score(x_test,y_test))"
   ]
  },
  {
   "cell_type": "code",
   "execution_count": 10,
   "id": "4700e024",
   "metadata": {},
   "outputs": [
    {
     "name": "stdout",
     "output_type": "stream",
     "text": [
      "Random Forest accuracy: 1.0\n"
     ]
    }
   ],
   "source": [
    "#random forest\n",
    "from sklearn.ensemble import RandomForestClassifier\n",
    "rf = RandomForestClassifier(n_estimators=100, random_state=1) #n_estimators: agac sayisi\n",
    "rf.fit(x_train, y_train)\n",
    "print(\"Random Forest accuracy:\",rf.score(x_test , y_test))"
   ]
  }
 ],
 "metadata": {
  "kernelspec": {
   "display_name": "Python 3 (ipykernel)",
   "language": "python",
   "name": "python3"
  },
  "language_info": {
   "codemirror_mode": {
    "name": "ipython",
    "version": 3
   },
   "file_extension": ".py",
   "mimetype": "text/x-python",
   "name": "python",
   "nbconvert_exporter": "python",
   "pygments_lexer": "ipython3",
   "version": "3.9.7"
  }
 },
 "nbformat": 4,
 "nbformat_minor": 5
}
